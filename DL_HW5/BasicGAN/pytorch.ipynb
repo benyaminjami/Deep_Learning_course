{
 "cells": [
  {
   "cell_type": "code",
   "execution_count": 4,
   "metadata": {
    "colab": {},
    "colab_type": "code",
    "id": "Mu_pd9TVFb9v"
   },
   "outputs": [],
   "source": [
    "import numpy as np\n"
   ]
  },
  {
   "cell_type": "code",
   "execution_count": 5,
   "metadata": {
    "colab": {},
    "colab_type": "code",
    "id": "flZ1MOT8F8kE"
   },
   "outputs": [],
   "source": [
    "import torch\n",
    "import torch.nn as nn\n",
    "import torch.nn.functional as F\n",
    "import torch.optim as optim\n",
    "from torchvision import datasets, transforms"
   ]
  },
  {
   "cell_type": "code",
   "execution_count": 6,
   "metadata": {
    "colab": {},
    "colab_type": "code",
    "id": "rg-CYaG9GU03"
   },
   "outputs": [],
   "source": [
    "# MNIST Dataset\n",
    "original_train_dataset = datasets.MNIST(root='../mnist_data/', train=True, transform=transforms.ToTensor(), download=True)\n",
    "original_test_dataset = datasets.MNIST(root='../mnist_data/', train=False, transform=transforms.ToTensor(), download=True)"
   ]
  },
  {
   "cell_type": "code",
   "execution_count": 7,
   "metadata": {
    "colab": {},
    "colab_type": "code",
    "id": "wZ06E4yEHbGo"
   },
   "outputs": [],
   "source": [
    "CUDA = True\n",
    "BATCH_SIZE = 64"
   ]
  },
  {
   "cell_type": "code",
   "execution_count": 8,
   "metadata": {
    "colab": {},
    "colab_type": "code",
    "id": "CXUYiAuzGWuh"
   },
   "outputs": [],
   "source": [
    "# Define Train loader\n",
    "train_tensors = 2 * (original_train_dataset.data.float() / 255) - 1\n",
    "test_tensors = 2 * (original_test_dataset.data.float() / 255) - 1 \n",
    "\n",
    "train_dataset = torch.utils.data.TensorDataset(train_tensors, original_train_dataset.targets)\n",
    "test_dataset = torch.utils.data.TensorDataset(test_tensors, original_test_dataset.targets)\n",
    "\n",
    "train_loader = torch.utils.data.DataLoader(dataset=train_dataset, batch_size=BATCH_SIZE, shuffle=True)\n",
    "test_loader = torch.utils.data.DataLoader(dataset=test_dataset, batch_size=BATCH_SIZE, shuffle=False)"
   ]
  },
  {
   "cell_type": "code",
   "execution_count": 60,
   "metadata": {
    "colab": {},
    "colab_type": "code",
    "id": "b-P5Au4tHZAT"
   },
   "outputs": [],
   "source": [
    "# [CHANGED] Add dropout layer to introduce diversity in gradients\n",
    "# [CHANGED] [Important] Use LeakyReLU since it keeps gradients better\n",
    "class View(nn.Module):\n",
    "    def __init__(self, shape):\n",
    "        super(View, self).__init__() \n",
    "        self.shape = shape\n",
    "\n",
    "    def forward(self, x):\n",
    "        return x.view(*self.shape)\n",
    "\n",
    "discriminator = nn.Sequential(\n",
    "    nn.Dropout(),\n",
    "#     View((-1,1,28,28)),\n",
    "    nn.Conv2d(1, 64, 5),\n",
    "    nn.LeakyReLU(0.2),\n",
    "    nn.Conv2d(64, 128, 5),\n",
    "    nn.LeakyReLU(0.2),\n",
    "    nn.Conv2d(128, 256, 5, stride=2),\n",
    "    nn.LeakyReLU(0.2),\n",
    "    nn.Conv2d(256, 512, 5, stride=2),\n",
    "    nn.LeakyReLU(0.2),\n",
    "    nn.AvgPool2d(2),\n",
    "    nn.Flatten(),\n",
    "    nn.Linear(512, 1),\n",
    "    nn.Sigmoid()\n",
    ")\n",
    "# discriminator(torch.randn(10,784)).shape"
   ]
  },
  {
   "cell_type": "code",
   "execution_count": 61,
   "metadata": {
    "colab": {},
    "colab_type": "code",
    "id": "liKLsKy2H_9a"
   },
   "outputs": [
    {
     "data": {
      "text/plain": [
       "torch.Size([10, 1, 28, 28])"
      ]
     },
     "execution_count": 61,
     "metadata": {},
     "output_type": "execute_result"
    }
   ],
   "source": [
    "# [CHANGED] [Important] Use LeakyReLU since it keeps noise better\n",
    "\n",
    "generator = nn.Sequential(\n",
    "    nn.Linear(128, 256),\n",
    "    nn.LeakyReLU(0.2),\n",
    "    View((-1,1,16,16)),\n",
    "    nn.ConvTranspose2d(1, 32, 5),\n",
    "    nn.LeakyReLU(0.2),\n",
    "    nn.ConvTranspose2d(32, 64, 5),\n",
    "    nn.LeakyReLU(0.2),\n",
    "    nn.ConvTranspose2d(64, 1, 5),\n",
    "    nn.Tanh(),\n",
    ")\n",
    "generator(torch.randn(10,128)).shape"
   ]
  },
  {
   "cell_type": "code",
   "execution_count": 62,
   "metadata": {
    "colab": {},
    "colab_type": "code",
    "id": "LPNWbLh5JW1L"
   },
   "outputs": [],
   "source": [
    "if CUDA:\n",
    "  discriminator.cuda()\n",
    "  generator.cuda()"
   ]
  },
  {
   "cell_type": "code",
   "execution_count": 63,
   "metadata": {
    "colab": {},
    "colab_type": "code",
    "id": "Kv2HXF9gIQ-Q"
   },
   "outputs": [],
   "source": [
    "LEARNING_RATE_D = 0.0002\n",
    "LEARNING_RATE_G = 0.0002\n",
    "\n",
    "\n",
    "opt_D = optim.Adam(discriminator.parameters(), lr=LEARNING_RATE_D)\n",
    "opt_G = optim.Adam(generator.parameters(), lr=LEARNING_RATE_G)"
   ]
  },
  {
   "cell_type": "code",
   "execution_count": 64,
   "metadata": {
    "colab": {},
    "colab_type": "code",
    "id": "7L-wvColI2fW"
   },
   "outputs": [],
   "source": [
    "N_EPOCH = 100"
   ]
  },
  {
   "cell_type": "code",
   "execution_count": 65,
   "metadata": {
    "colab": {},
    "colab_type": "code",
    "id": "EPhHTmx7zrNK"
   },
   "outputs": [],
   "source": [
    "import matplotlib.pyplot as plt\n",
    "%matplotlib inline\n",
    "plt.rcParams['figure.figsize'] = (10, 3) # set default size of plots"
   ]
  },
  {
   "cell_type": "code",
   "execution_count": 67,
   "metadata": {
    "colab": {
     "base_uri": "https://localhost:8080/",
     "height": 21417
    },
    "colab_type": "code",
    "id": "T6q_InsGI-ad",
    "outputId": "9207f45f-570c-43eb-e0d9-182258e47434"
   },
   "outputs": [
    {
     "ename": "KeyboardInterrupt",
     "evalue": "",
     "output_type": "error",
     "traceback": [
      "\u001b[0;31m---------------------------------------------------------------------------\u001b[0m",
      "\u001b[0;31mKeyboardInterrupt\u001b[0m                         Traceback (most recent call last)",
      "\u001b[0;32m<ipython-input-67-3822e7287d85>\u001b[0m in \u001b[0;36m<module>\u001b[0;34m\u001b[0m\n\u001b[1;32m     30\u001b[0m         \u001b[0mz\u001b[0m \u001b[0;34m=\u001b[0m \u001b[0mtorch\u001b[0m\u001b[0;34m.\u001b[0m\u001b[0mrandn\u001b[0m\u001b[0;34m(\u001b[0m\u001b[0mimg\u001b[0m\u001b[0;34m.\u001b[0m\u001b[0mshape\u001b[0m\u001b[0;34m[\u001b[0m\u001b[0;36m0\u001b[0m\u001b[0;34m]\u001b[0m\u001b[0;34m,\u001b[0m \u001b[0;36m128\u001b[0m\u001b[0;34m)\u001b[0m\u001b[0;34m\u001b[0m\u001b[0;34m\u001b[0m\u001b[0m\n\u001b[1;32m     31\u001b[0m         \u001b[0;32mif\u001b[0m \u001b[0mCUDA\u001b[0m\u001b[0;34m:\u001b[0m\u001b[0;34m\u001b[0m\u001b[0;34m\u001b[0m\u001b[0m\n\u001b[0;32m---> 32\u001b[0;31m           \u001b[0mz\u001b[0m \u001b[0;34m=\u001b[0m \u001b[0mz\u001b[0m\u001b[0;34m.\u001b[0m\u001b[0mcuda\u001b[0m\u001b[0;34m(\u001b[0m\u001b[0;34m)\u001b[0m\u001b[0;34m\u001b[0m\u001b[0;34m\u001b[0m\u001b[0m\n\u001b[0m\u001b[1;32m     33\u001b[0m         \u001b[0mfake_img\u001b[0m \u001b[0;34m=\u001b[0m \u001b[0mgenerator\u001b[0m\u001b[0;34m(\u001b[0m\u001b[0mz\u001b[0m\u001b[0;34m)\u001b[0m\u001b[0;34m\u001b[0m\u001b[0;34m\u001b[0m\u001b[0m\n\u001b[1;32m     34\u001b[0m \u001b[0;34m\u001b[0m\u001b[0m\n",
      "\u001b[0;31mKeyboardInterrupt\u001b[0m: "
     ]
    }
   ],
   "source": [
    "# [CHANGED] EPSILON is not needed anymore\n",
    "# EPSILON = 1e-6\n",
    "\n",
    "for epoch in range(N_EPOCH):\n",
    "    for i, (img, label) in enumerate(train_loader):\n",
    "        img = img.flatten(start_dim=1)\n",
    "        img = img.view(-1,1,28,28)\n",
    "        real_img = img\n",
    "        if CUDA:\n",
    "            real_img = real_img.cuda()\n",
    "\n",
    "        fake_labels = torch.zeros(img.shape[0], 1).cuda()\n",
    "        real_labels = torch.ones(img.shape[0], 1).cuda()\n",
    "\n",
    "        #########################\n",
    "        z = torch.randn(img.shape[0], 128)\n",
    "        if CUDA:\n",
    "            z = z.cuda()\n",
    "        fake_img = generator(z)\n",
    "\n",
    "        opt_D.zero_grad()\n",
    "        # [CHANGED] BCE is more stable\n",
    "        #         loss_d = -(torch.log(EPSILON + 1 - discriminator(fake_img.detach())) + \n",
    "        #                    torch.log(EPSILON + discriminator(real_img))).mean()\n",
    "        loss_d = (F.binary_cross_entropy(discriminator(fake_img.detach()), fake_labels) +\n",
    "                  F.binary_cross_entropy(discriminator(real_img), real_labels))\n",
    "        loss_d.backward()\n",
    "        opt_D.step()\n",
    "        #########################\n",
    "        z = torch.randn(img.shape[0], 128)\n",
    "        if CUDA:\n",
    "          z = z.cuda()\n",
    "        fake_img = generator(z)\n",
    "\n",
    "        opt_G.zero_grad()\n",
    "        # [CHANGED] BCE is more stable\n",
    "        #     loss_g = - torch.log(EPSILON + discriminator(fake_img)).mean()\n",
    "        loss_g = F.binary_cross_entropy(discriminator(fake_img), real_labels)\n",
    "        loss_g.backward()\n",
    "        opt_G.step()\n",
    "        #########################\n",
    "\n",
    "    \n",
    "    print(\"epoch: {} \\t last batch loss D: {} \\t last batch loss G: {}\".format(epoch, loss_d.item(), loss_g.item()))\n",
    "\n",
    "    # [CHANGED] Better output\n",
    "    for i in range(3):\n",
    "        for j in range(10):\n",
    "            plt.subplot(3, 10, i * 10 + j + 1)\n",
    "            plt.imshow(fake_img[i * 10 + j].detach().cpu().view(28, 28).numpy())\n",
    "    plt.show()\n"
   ]
  },
  {
   "cell_type": "code",
   "execution_count": null,
   "metadata": {
    "colab": {},
    "colab_type": "code",
    "id": "DFXCjH1LLzNB"
   },
   "outputs": [],
   "source": []
  }
 ],
 "metadata": {
  "accelerator": "GPU",
  "colab": {
   "collapsed_sections": [],
   "name": "pytorch-session-3.ipynb",
   "provenance": [],
   "version": "0.3.2"
  },
  "kernelspec": {
   "display_name": "Python 3",
   "language": "python",
   "name": "python3"
  },
  "language_info": {
   "codemirror_mode": {
    "name": "ipython",
    "version": 3
   },
   "file_extension": ".py",
   "mimetype": "text/x-python",
   "name": "python",
   "nbconvert_exporter": "python",
   "pygments_lexer": "ipython3",
   "version": "3.8.2"
  }
 },
 "nbformat": 4,
 "nbformat_minor": 4
}
