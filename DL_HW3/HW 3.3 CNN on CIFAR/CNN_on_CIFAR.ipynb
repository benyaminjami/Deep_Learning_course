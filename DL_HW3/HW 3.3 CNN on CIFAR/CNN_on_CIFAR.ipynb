{
 "cells": [
  {
   "cell_type": "markdown",
   "metadata": {
    "colab_type": "text",
    "id": "wChv0nuxOHWP"
   },
   "source": [
    "# CE-40959: Deep Learning"
   ]
  },
  {
   "cell_type": "markdown",
   "metadata": {
    "colab_type": "text",
    "id": "iH49kwa1OHWS"
   },
   "source": [
    "# HW3. Part 3. CNN on CIFAR (20 + 10 points)"
   ]
  },
  {
   "cell_type": "markdown",
   "metadata": {
    "colab_type": "text",
    "id": "oEy82znzOHWV"
   },
   "source": [
    "### Deadline:   16 Farvardin"
   ]
  },
  {
   "cell_type": "markdown",
   "metadata": {
    "colab_type": "text",
    "id": "3RSya_meOHWY"
   },
   "source": [
    "In this problem, we will train a CNN on CIFAR-10 database. Next, we will go through the network and visualize its layers to see what is happening there. Then, we use the trained model in a Transfer Learning approach to classifying the CIFAR-100 database."
   ]
  },
  {
   "cell_type": "markdown",
   "metadata": {
    "colab_type": "text",
    "id": "9jmMAkyiOHWa"
   },
   "source": [
    "Let's start with loading data. First load the data by runing the code below:"
   ]
  },
  {
   "cell_type": "code",
   "execution_count": 3,
   "metadata": {
    "colab": {
     "base_uri": "https://localhost:8080/",
     "height": 34
    },
    "colab_type": "code",
    "id": "u5A1V1SNX61e",
    "outputId": "9c60d3bf-b411-4dbb-cd18-2e391826c0d7"
   },
   "outputs": [
    {
     "name": "stdout",
     "output_type": "stream",
     "text": [
      "Drive already mounted at /content/drive; to attempt to forcibly remount, call drive.mount(\"/content/drive\", force_remount=True).\n"
     ]
    }
   ],
   "source": [
    "from google.colab import drive\n",
    "drive.mount('/content/drive')"
   ]
  },
  {
   "cell_type": "code",
   "execution_count": 1,
   "metadata": {
    "colab": {},
    "colab_type": "code",
    "id": "jtGOHoyyOHWc"
   },
   "outputs": [],
   "source": [
    "# !cp \"/content/drive/My Drive/HW 3.3 CNN on CIFAR/load_data.py\" .\n",
    "from load_data import load_cifar10 #this function provided in the attached file loads the data of CIFAR10 database\n",
    "\n",
    "def load_cifar10_data():\n",
    "    dataset_dir = 'data/cifar-10-batches-py'\n",
    "    \n",
    "    X_train, y_train, X_test, y_test = load_cifar10(dataset_dir)\n",
    "    X_train, X_val = X_train[:45000], X_train[45000:]\n",
    "    y_train, y_val = y_train[:45000], y_train[45000:]\n",
    "    \n",
    "    return X_train, y_train, X_val, y_val, X_test, y_test"
   ]
  },
  {
   "cell_type": "code",
   "execution_count": 2,
   "metadata": {
    "colab": {
     "base_uri": "https://localhost:8080/",
     "height": 121
    },
    "colab_type": "code",
    "id": "u8ggatr6OHWq",
    "outputId": "fd3d8ea3-fb68-41f1-8174-6b7f69b33dae"
   },
   "outputs": [
    {
     "name": "stdout",
     "output_type": "stream",
     "text": [
      "X_train shape: (45000, 32, 32, 3)\n",
      "y_train shape: (45000, 1)\n",
      "X_val shape: (5000, 32, 32, 3)\n",
      "y_val shape: (5000, 1)\n",
      "X_test shape: (10000, 32, 32, 3)\n",
      "y_test shape: (10000, 1)\n"
     ]
    }
   ],
   "source": [
    "X_train, y_train, X_val, y_val, X_test, y_test = load_cifar10_data()\n",
    "\n",
    "print('X_train shape:', X_train.shape)\n",
    "print('y_train shape:', y_train.shape)\n",
    "print('X_val shape:', X_val.shape)\n",
    "print('y_val shape:', y_val.shape)\n",
    "print('X_test shape:', X_test.shape)\n",
    "print('y_test shape:', y_test.shape)"
   ]
  },
  {
   "cell_type": "code",
   "execution_count": 3,
   "metadata": {
    "colab": {
     "base_uri": "https://localhost:8080/",
     "height": 266
    },
    "colab_type": "code",
    "id": "2vUrC1WuOHW0",
    "outputId": "c97bfb96-22e7-4b7d-a4f9-1ad5d2a8788b"
   },
   "outputs": [
    {
     "data": {
      "image/png": "[encoded data removed]",
      "text/plain": [
       "<Figure size 432x288 with 1 Axes>"
      ]
     },
     "metadata": {
      "needs_background": "light"
     },
     "output_type": "display_data"
    }
   ],
   "source": [
    "import matplotlib.pyplot as plt\n",
    "plt.imshow(X_train[1].astype(int))#represnting a sample data from CIFAR-10\n",
    "plt.show()"
   ]
  },
  {
   "cell_type": "markdown",
   "metadata": {
    "colab_type": "text",
    "id": "oZF6KwsBOHW9"
   },
   "source": [
    "By successfully runing the above code, you have loaded the data and also you can see a sample data from CIFAR-10."
   ]
  },
  {
   "cell_type": "markdown",
   "metadata": {
    "colab_type": "text",
    "id": "Ma9hQninOHW_"
   },
   "source": [
    "The below code will convert the labels to one-hot codes which will be later used for the classification."
   ]
  },
  {
   "cell_type": "code",
   "execution_count": 4,
   "metadata": {
    "colab": {},
    "colab_type": "code",
    "id": "AVjBBLfYOHXB"
   },
   "outputs": [],
   "source": [
    "import numpy as np\n",
    "\n",
    "from sklearn.preprocessing import OneHotEncoder # this function is used to prepare one-hot encoded labels\n",
    "encoder = OneHotEncoder(sparse=False)\n",
    "\n",
    "encoder.fit(y_train)#this line will fit 'encoder' to encode the labels\n",
    "\n",
    "y_train_onehot = encoder.transform(y_train)# encoding train labels (one-hot coding)\n",
    "y_val_onehot   = encoder.transform(y_val)  # encoding train labels (one-hot coding)\n",
    "y_test_onehot  = encoder.transform(y_test) # encoding test  labels (one-hot coding)"
   ]
  },
  {
   "cell_type": "markdown",
   "metadata": {
    "colab_type": "text",
    "id": "JOAj0gk7OHXI"
   },
   "source": [
    "The function below is for converting data to several batches which we will use in training."
   ]
  },
  {
   "cell_type": "code",
   "execution_count": 5,
   "metadata": {
    "colab": {},
    "colab_type": "code",
    "id": "BbDr4fq3OHXK"
   },
   "outputs": [],
   "source": [
    "def make_batches(x, y, batch_size):\n",
    "    n = len(y)\n",
    "    steps = n // batch_size\n",
    "    if n % batch_size != 0:\n",
    "        steps += 1\n",
    "    x_batches = np.array_split(x, steps)\n",
    "    y_batches = np.array_split(y, steps)\n",
    "    return x_batches, y_batches"
   ]
  },
  {
   "cell_type": "markdown",
   "metadata": {
    "colab_type": "text",
    "id": "1rehV1k6OHXR"
   },
   "source": [
    "## Part1: Trainig a CNN (15 pts.)"
   ]
  },
  {
   "cell_type": "markdown",
   "metadata": {
    "colab_type": "text",
    "id": "XPz983AEOHXS"
   },
   "source": [
    "In this part, we are going to train a Convolutional Neural Network (CNN) with the below structure:"
   ]
  },
  {
   "cell_type": "markdown",
   "metadata": {
    "colab_type": "text",
    "id": "WvHhAo6POHXT"
   },
   "source": [
    "1. 16 * conv(5,5), activation function =ReLU\n",
    "2. 16 * conv(5,5), activation function =ReLU\n",
    "3. Max-pooling(3,3), stride=(2,2)\n",
    "4. 32 * conv(5,5), activation function =ReLU\n",
    "5. 32 * conv(5,5), activation function =ReLU\n",
    "6. Max-pooling(3,3), stride=(2,2)\n",
    "7. 64 * conv(5,5), activation function =ReLU\n",
    "8. FC(128), activation function =ReLU\n",
    "9. FC(128), activation function =ReLU\n",
    "10. FC(10), activation function =softmax"
   ]
  },
  {
   "cell_type": "markdown",
   "metadata": {
    "colab_type": "text",
    "id": "egcHqcvbOHXU"
   },
   "source": [
    "Let's go to implement the model in the below box. Note that using **tf.layers** is **NOT ALLOWED** in this homework."
   ]
  },
  {
   "cell_type": "code",
   "execution_count": 6,
   "metadata": {
    "colab": {},
    "colab_type": "code",
    "id": "3Q-dXBmXOHXW"
   },
   "outputs": [
    {
     "name": "stdout",
     "output_type": "stream",
     "text": [
      "WARNING:tensorflow:From /home/ben/.local/lib/python3.8/site-packages/tensorflow/python/ops/resource_variable_ops.py:1659: calling BaseResourceVariable.__init__ (from tensorflow.python.ops.resource_variable_ops) with constraint is deprecated and will be removed in a future version.\n",
      "Instructions for updating:\n",
      "If using Keras pass *_constraint arguments to layers.\n"
     ]
    }
   ],
   "source": [
    "import tensorflow.compat.v1 as tf\n",
    "tf.disable_eager_execution()\n",
    "tf.set_random_seed(42)\n",
    "\n",
    "tf.reset_default_graph()\n",
    "\n",
    "x = tf.placeholder(tf.float32, [None, 32, 32, 3]) # placeholder for input data\n",
    "y = tf.placeholder(tf.float32, [None, 10])# placeholder for labels (one-hot encoded)\n",
    "\n",
    "###################################################################\n",
    "#########  TODO: Your code for implementing the network ###########\n",
    "###################################################################\n",
    "\n",
    "# Define the needed Variables here:\n",
    "# e.g., W_conv1 has the shape of shape=[5, 5, 3, 16] and B_conv1 has the shape of shape=[16]\n",
    "W_conv1 = tf.get_variable(name='W_conv1', shape=[5, 5, 3, 16], initializer=tf.random_normal_initializer(mean=0.0, stddev=0.05))\n",
    "B_conv1 = tf.get_variable(name='B_conv1', shape=[16], initializer=tf.zeros_initializer)\n",
    "W_conv2 = tf.get_variable(name='W_conv2', shape=[5, 5, 16, 16], initializer=tf.random_normal_initializer(mean=0.0, stddev=0.05))\n",
    "B_conv2 = tf.get_variable(name='B_conv2', shape=[16], initializer=tf.zeros_initializer)\n",
    "W_conv3 = tf.get_variable(name='W_conv3', shape=[5, 5, 16, 32], initializer=tf.random_normal_initializer(mean=0.0, stddev=0.05))\n",
    "B_conv3 = tf.get_variable(name='B_conv3', shape=[32], initializer=tf.zeros_initializer)\n",
    "W_conv4 = tf.get_variable(name='W_conv4', shape=[5, 5, 32, 32], initializer=tf.random_normal_initializer(mean=0.0, stddev=0.05))\n",
    "B_conv4 = tf.get_variable(name='B_conv4', shape=[32], initializer=tf.zeros_initializer)\n",
    "W_conv5 = tf.get_variable(name='W_conv5', shape=[5, 5, 32, 64], initializer=tf.random_normal_initializer(mean=0.0, stddev=0.05))\n",
    "B_conv5 = tf.get_variable(name='B_conv5', shape=[64], initializer=tf.zeros_initializer)\n",
    "\n",
    "W_fc1 = tf.get_variable(name='W_fc1', shape=[4096, 128], initializer=tf.random_normal_initializer(mean=0.0, stddev=0.05))\n",
    "B_fc1 = tf.get_variable(name='B_fc1', shape=[128], initializer=tf.zeros_initializer)\n",
    "\n",
    "W_fc2 = tf.get_variable(name='W_fc2', shape=[128, 128], initializer=tf.random_normal_initializer(mean=0.0, stddev=0.05))\n",
    "B_fc2 = tf.get_variable(name='B_fc2', shape=[128], initializer=tf.zeros_initializer)\n",
    "\n",
    "W_fc3 = tf.get_variable(name='W_fc3', shape=[128, 10], initializer=tf.random_normal_initializer(mean=0.0, stddev=0.05))\n",
    "B_fc3 = tf.get_variable(name='B_fc3', shape=[10], initializer=tf.zeros_initializer)\n",
    "\n",
    "\n",
    "# Define the layers here:\n",
    "conv1 = tf.nn.conv2d(x, W_conv1, strides=[1, 1, 1, 1], padding='SAME') + B_conv1\n",
    "conv1_relu = tf.nn.relu(conv1)\n",
    "conv2 = tf.nn.conv2d(conv1_relu, W_conv2, strides=[1, 1, 1, 1], padding='SAME') + B_conv2\n",
    "conv2_relu = tf.nn.relu(conv2)\n",
    "pooling1 = tf.nn.max_pool(conv2_relu, ksize=[1, 3, 3, 1], strides=[1, 2, 2, 1], padding='SAME')\n",
    "\n",
    "conv3 = tf.nn.conv2d(pooling1, W_conv3, strides=[1, 1, 1, 1], padding='SAME') + B_conv3\n",
    "conv3_relu = tf.nn.relu(conv3)\n",
    "conv4 = tf.nn.conv2d(conv3_relu, W_conv4, strides=[1, 1, 1, 1], padding='SAME') + B_conv4\n",
    "conv4_relu = tf.nn.relu(conv4)\n",
    "pooling2 = tf.nn.max_pool(conv4_relu, ksize=[1, 3, 3, 1], strides=[1, 2, 2, 1], padding='SAME')\n",
    "\n",
    "conv5 = tf.nn.conv2d(pooling2, W_conv5, strides=[1, 1, 1, 1], padding='SAME') + B_conv5\n",
    "conv5_relu = tf.nn.relu(conv5)\n",
    "conv5_relu = tf.reshape(conv5_relu, [tf.shape(conv5_relu)[0], conv5_relu.shape[1]*conv5_relu.shape[2]*conv5_relu.shape[3]])\n",
    "\n",
    "dense1 = tf.matmul(conv5_relu, W_fc1) + B_fc1\n",
    "dense1_relu = tf.nn.relu(dense1)\n",
    "\n",
    "dense2 = tf.matmul(dense1_relu, W_fc2) + B_fc2\n",
    "dense2_relu = tf.nn.relu(dense2)\n",
    "\n",
    "logits = tf.matmul(dense2_relu, W_fc3) + B_fc3\n",
    "y_hat = tf.nn.softmax(logits)\n",
    "\n",
    "\n",
    "\n",
    "\n",
    "# continue the same for other layers:\n",
    "    \n",
    "    \n",
    "    \n",
    "# Don't forget that:\n",
    "# - you need to define variables with needed size and suitable initialization,\n",
    "# - you need to use tf.nn.conv2d to implement convolution,\n",
    "# - you need to use tf.nn.max_pool to implement max_pooling,\n",
    "\n",
    "# Help: your network output is something like: y_hat = tf.nn.softmax(logits) where logits are values of last layer \n",
    "#       before softmax activation function.\n",
    "#############################################################"
   ]
  },
  {
   "cell_type": "markdown",
   "metadata": {
    "colab_type": "text",
    "id": "0R8wGNecOHXc"
   },
   "source": [
    "Now you need to define an optimizer. You are free to use any optimizer. You can change optimizer or learning rate if you want :)"
   ]
  },
  {
   "cell_type": "code",
   "execution_count": 7,
   "metadata": {
    "colab": {},
    "colab_type": "code",
    "id": "iKXCgooHOHXe"
   },
   "outputs": [],
   "source": [
    "############ Cross entropy loss ############################\n",
    "cross_entropy = tf.reduce_mean(tf.nn.softmax_cross_entropy_with_logits_v2(logits=logits, labels=y))\n",
    "# Note: logits in the above line is the last layer values (a 10-neuron layer) before the softmax activation function. \n",
    "#       In other words, you may have written y_hat = tf.nn.softmax(logits) in the above box in which y_hat is the output\n",
    "#       of the network.\n",
    "\n",
    "############ Adam optimizer ################################\n",
    "lr = 1e-3 # learning rate\n",
    "optimizer = tf.train.AdamOptimizer(learning_rate=lr)\n",
    "regularization_factor = 0.001\n",
    "regularization = tf.nn.l2_loss(W_conv1) + tf.nn.l2_loss(W_conv2)+ tf.nn.l2_loss(W_fc1) + tf.nn.l2_loss(W_fc2)\n",
    "trainer = optimizer.minimize(cross_entropy + regularization * regularization_factor)\n",
    "############################################################\n",
    "#            TODO: Implement Accuracy                      #\n",
    "############################################################\n",
    "correct_preds = tf.argmax(y, axis=1)\n",
    "model_preds = tf.argmax(y_hat, axis=1)\n",
    "accuracy = tf.reduce_mean(tf.cast(tf.equal(model_preds, correct_preds), tf.float32))\n",
    "# Note: The defined accuray does not play any role in the optimization process. However, it is a mtric which we can \n",
    "#       use as a log for mintoring training process with more metrics rather than a single loss function.\n",
    "############################################################"
   ]
  },
  {
   "cell_type": "markdown",
   "metadata": {
    "colab_type": "text",
    "id": "N7DNwPjnOHXm"
   },
   "source": [
    "You can go for the rest of the job, handle the Session and go for training. \n",
    "You can use tensorboard or the code provided in the next box to plot for loss and accuracy of training and validation data.\n",
    "You are expected to achieve at least 60% accuracy on the test data after the training process. Good Luck! ;)"
   ]
  },
  {
   "cell_type": "code",
   "execution_count": 8,
   "metadata": {
    "colab": {
     "base_uri": "https://localhost:8080/",
     "height": 729
    },
    "colab_type": "code",
    "id": "ucxxMwpPOHXn",
    "outputId": "80ec222d-c8cb-437f-bef5-f1ecd3a9e4cb"
   },
   "outputs": [
    {
     "name": "stdout",
     "output_type": "stream",
     "text": [
      "\n",
      "********** Epoch   0 **********\n",
      "Train:\t\tAccuracy= 0.3907 \tLoss= 1.6906\n",
      "Validation:\tAccuracy= 0.4676 \tLoss= 1.4975\n",
      "\n",
      "********** Epoch   1 **********\n",
      "Train:\t\tAccuracy= 0.5220 \tLoss= 1.3403\n",
      "Validation:\tAccuracy= 0.5522 \tLoss= 1.2713\n",
      "\n",
      "********** Epoch   2 **********\n",
      "Train:\t\tAccuracy= 0.5854 \tLoss= 1.1764\n",
      "Validation:\tAccuracy= 0.5760 \tLoss= 1.2034\n",
      "\n",
      "********** Epoch   3 **********\n",
      "Train:\t\tAccuracy= 0.6275 \tLoss= 1.0597\n",
      "Validation:\tAccuracy= 0.6020 \tLoss= 1.1738\n",
      "\n",
      "********** Epoch   4 **********\n",
      "Train:\t\tAccuracy= 0.6540 \tLoss= 0.9774\n",
      "Validation:\tAccuracy= 0.6168 \tLoss= 1.1662\n",
      "\n",
      "********** Epoch   5 **********\n",
      "Train:\t\tAccuracy= 0.6738 \tLoss= 0.9230\n",
      "Validation:\tAccuracy= 0.6254 \tLoss= 1.1304\n",
      "\n",
      "********** Epoch   6 **********\n",
      "Train:\t\tAccuracy= 0.6919 \tLoss= 0.8629\n",
      "Validation:\tAccuracy= 0.6086 \tLoss= 1.2867\n",
      "\n",
      "********** Epoch   7 **********\n",
      "Train:\t\tAccuracy= 0.7128 \tLoss= 0.8158\n",
      "Validation:\tAccuracy= 0.5890 \tLoss= 1.3563\n",
      "\n",
      "********** Epoch   8 **********\n",
      "Train:\t\tAccuracy= 0.7295 \tLoss= 0.7699\n",
      "Validation:\tAccuracy= 0.6202 \tLoss= 1.3147\n",
      "\n",
      "********** Epoch   9 **********\n",
      "Train:\t\tAccuracy= 0.7464 \tLoss= 0.7178\n",
      "Validation:\tAccuracy= 0.6126 \tLoss= 1.3851\n"
     ]
    },
    {
     "ename": "ResourceExhaustedError",
     "evalue": "2 root error(s) found.\n  (0) Resource exhausted: OOM when allocating tensor with shape[10000,16,32,32] and type float on /job:localhost/replica:0/task:0/device:GPU:0 by allocator GPU_0_bfc\n\t [[node Conv2D (defined at <ipython-input-6-39f00ec25501>:38) ]]\nHint: If you want to see a list of allocated tensors when OOM happens, add report_tensor_allocations_upon_oom to RunOptions for current allocation info.\n\n\t [[Mean_1/_21]]\nHint: If you want to see a list of allocated tensors when OOM happens, add report_tensor_allocations_upon_oom to RunOptions for current allocation info.\n\n  (1) Resource exhausted: OOM when allocating tensor with shape[10000,16,32,32] and type float on /job:localhost/replica:0/task:0/device:GPU:0 by allocator GPU_0_bfc\n\t [[node Conv2D (defined at <ipython-input-6-39f00ec25501>:38) ]]\nHint: If you want to see a list of allocated tensors when OOM happens, add report_tensor_allocations_upon_oom to RunOptions for current allocation info.\n\n0 successful operations.\n0 derived errors ignored.\n\nErrors may have originated from an input operation.\nInput Source operations connected to node Conv2D:\n Placeholder (defined at <ipython-input-6-39f00ec25501>:7)\n\nInput Source operations connected to node Conv2D:\n Placeholder (defined at <ipython-input-6-39f00ec25501>:7)\n\nOriginal stack trace for 'Conv2D':\n  File \"/usr/lib/python3.8/runpy.py\", line 193, in _run_module_as_main\n    return _run_code(code, main_globals, None,\n  File \"/usr/lib/python3.8/runpy.py\", line 86, in _run_code\n    exec(code, run_globals)\n  File \"/home/ben/.local/lib/python3.8/site-packages/ipykernel_launcher.py\", line 16, in <module>\n    app.launch_new_instance()\n  File \"/home/ben/.local/lib/python3.8/site-packages/traitlets/config/application.py\", line 664, in launch_instance\n    app.start()\n  File \"/home/ben/.local/lib/python3.8/site-packages/ipykernel/kernelapp.py\", line 583, in start\n    self.io_loop.start()\n  File \"/home/ben/.local/lib/python3.8/site-packages/tornado/platform/asyncio.py\", line 149, in start\n    self.asyncio_loop.run_forever()\n  File \"/usr/lib/python3.8/asyncio/base_events.py\", line 570, in run_forever\n    self._run_once()\n  File \"/usr/lib/python3.8/asyncio/base_events.py\", line 1859, in _run_once\n    handle._run()\n  File \"/usr/lib/python3.8/asyncio/events.py\", line 81, in _run\n    self._context.run(self._callback, *self._args)\n  File \"/home/ben/.local/lib/python3.8/site-packages/tornado/ioloop.py\", line 690, in <lambda>\n    lambda f: self._run_callback(functools.partial(callback, future))\n  File \"/home/ben/.local/lib/python3.8/site-packages/tornado/ioloop.py\", line 743, in _run_callback\n    ret = callback()\n  File \"/home/ben/.local/lib/python3.8/site-packages/tornado/gen.py\", line 787, in inner\n    self.run()\n  File \"/home/ben/.local/lib/python3.8/site-packages/tornado/gen.py\", line 748, in run\n    yielded = self.gen.send(value)\n  File \"/home/ben/.local/lib/python3.8/site-packages/ipykernel/kernelbase.py\", line 365, in process_one\n    yield gen.maybe_future(dispatch(*args))\n  File \"/home/ben/.local/lib/python3.8/site-packages/tornado/gen.py\", line 209, in wrapper\n    yielded = next(result)\n  File \"/home/ben/.local/lib/python3.8/site-packages/ipykernel/kernelbase.py\", line 268, in dispatch_shell\n    yield gen.maybe_future(handler(stream, idents, msg))\n  File \"/home/ben/.local/lib/python3.8/site-packages/tornado/gen.py\", line 209, in wrapper\n    yielded = next(result)\n  File \"/home/ben/.local/lib/python3.8/site-packages/ipykernel/kernelbase.py\", line 543, in execute_request\n    self.do_execute(\n  File \"/home/ben/.local/lib/python3.8/site-packages/tornado/gen.py\", line 209, in wrapper\n    yielded = next(result)\n  File \"/home/ben/.local/lib/python3.8/site-packages/ipykernel/ipkernel.py\", line 300, in do_execute\n    res = shell.run_cell(code, store_history=store_history, silent=silent)\n  File \"/home/ben/.local/lib/python3.8/site-packages/ipykernel/zmqshell.py\", line 536, in run_cell\n    return super(ZMQInteractiveShell, self).run_cell(*args, **kwargs)\n  File \"/home/ben/.local/lib/python3.8/site-packages/IPython/core/interactiveshell.py\", line 2857, in run_cell\n    result = self._run_cell(\n  File \"/home/ben/.local/lib/python3.8/site-packages/IPython/core/interactiveshell.py\", line 2886, in _run_cell\n    return runner(coro)\n  File \"/home/ben/.local/lib/python3.8/site-packages/IPython/core/async_helpers.py\", line 68, in _pseudo_sync_runner\n    coro.send(None)\n  File \"/home/ben/.local/lib/python3.8/site-packages/IPython/core/interactiveshell.py\", line 3062, in run_cell_async\n    has_raised = await self.run_ast_nodes(code_ast.body, cell_name,\n  File \"/home/ben/.local/lib/python3.8/site-packages/IPython/core/interactiveshell.py\", line 3254, in run_ast_nodes\n    if (await self.run_code(code, result,  async_=asy)):\n  File \"/home/ben/.local/lib/python3.8/site-packages/IPython/core/interactiveshell.py\", line 3331, in run_code\n    exec(code_obj, self.user_global_ns, self.user_ns)\n  File \"<ipython-input-6-39f00ec25501>\", line 38, in <module>\n    conv1 = tf.nn.conv2d(x, W_conv1, strides=[1, 1, 1, 1], padding='SAME') + B_conv1\n  File \"/home/ben/.local/lib/python3.8/site-packages/tensorflow/python/ops/nn_ops.py\", line 2006, in conv2d\n    return gen_nn_ops.conv2d(input,  # pylint: disable=redefined-builtin\n  File \"/home/ben/.local/lib/python3.8/site-packages/tensorflow/python/ops/gen_nn_ops.py\", line 965, in conv2d\n    _, _, _op, _outputs = _op_def_library._apply_op_helper(\n  File \"/home/ben/.local/lib/python3.8/site-packages/tensorflow/python/framework/op_def_library.py\", line 742, in _apply_op_helper\n    op = g._create_op_internal(op_type_name, inputs, dtypes=None,\n  File \"/home/ben/.local/lib/python3.8/site-packages/tensorflow/python/framework/ops.py\", line 3319, in _create_op_internal\n    ret = Operation(\n  File \"/home/ben/.local/lib/python3.8/site-packages/tensorflow/python/framework/ops.py\", line 1791, in __init__\n    self._traceback = tf_stack.extract_stack()\n",
     "output_type": "error",
     "traceback": [
      "\u001b[0;31m---------------------------------------------------------------------------\u001b[0m",
      "\u001b[0;31mResourceExhaustedError\u001b[0m                    Traceback (most recent call last)",
      "\u001b[0;32m~/.local/lib/python3.8/site-packages/tensorflow/python/client/session.py\u001b[0m in \u001b[0;36m_do_call\u001b[0;34m(self, fn, *args)\u001b[0m\n\u001b[1;32m   1364\u001b[0m     \u001b[0;32mtry\u001b[0m\u001b[0;34m:\u001b[0m\u001b[0;34m\u001b[0m\u001b[0;34m\u001b[0m\u001b[0m\n\u001b[0;32m-> 1365\u001b[0;31m       \u001b[0;32mreturn\u001b[0m \u001b[0mfn\u001b[0m\u001b[0;34m(\u001b[0m\u001b[0;34m*\u001b[0m\u001b[0margs\u001b[0m\u001b[0;34m)\u001b[0m\u001b[0;34m\u001b[0m\u001b[0;34m\u001b[0m\u001b[0m\n\u001b[0m\u001b[1;32m   1366\u001b[0m     \u001b[0;32mexcept\u001b[0m \u001b[0merrors\u001b[0m\u001b[0;34m.\u001b[0m\u001b[0mOpError\u001b[0m \u001b[0;32mas\u001b[0m \u001b[0me\u001b[0m\u001b[0;34m:\u001b[0m\u001b[0;34m\u001b[0m\u001b[0;34m\u001b[0m\u001b[0m\n",
      "\u001b[0;32m~/.local/lib/python3.8/site-packages/tensorflow/python/client/session.py\u001b[0m in \u001b[0;36m_run_fn\u001b[0;34m(feed_dict, fetch_list, target_list, options, run_metadata)\u001b[0m\n\u001b[1;32m   1348\u001b[0m       \u001b[0mself\u001b[0m\u001b[0;34m.\u001b[0m\u001b[0m_extend_graph\u001b[0m\u001b[0;34m(\u001b[0m\u001b[0;34m)\u001b[0m\u001b[0;34m\u001b[0m\u001b[0;34m\u001b[0m\u001b[0m\n\u001b[0;32m-> 1349\u001b[0;31m       return self._call_tf_sessionrun(options, feed_dict, fetch_list,\n\u001b[0m\u001b[1;32m   1350\u001b[0m                                       target_list, run_metadata)\n",
      "\u001b[0;32m~/.local/lib/python3.8/site-packages/tensorflow/python/client/session.py\u001b[0m in \u001b[0;36m_call_tf_sessionrun\u001b[0;34m(self, options, feed_dict, fetch_list, target_list, run_metadata)\u001b[0m\n\u001b[1;32m   1440\u001b[0m                           run_metadata):\n\u001b[0;32m-> 1441\u001b[0;31m     return tf_session.TF_SessionRun_wrapper(self._session, options, feed_dict,\n\u001b[0m\u001b[1;32m   1442\u001b[0m                                             \u001b[0mfetch_list\u001b[0m\u001b[0;34m,\u001b[0m \u001b[0mtarget_list\u001b[0m\u001b[0;34m,\u001b[0m\u001b[0;34m\u001b[0m\u001b[0;34m\u001b[0m\u001b[0m\n",
      "\u001b[0;31mResourceExhaustedError\u001b[0m: 2 root error(s) found.\n  (0) Resource exhausted: OOM when allocating tensor with shape[10000,16,32,32] and type float on /job:localhost/replica:0/task:0/device:GPU:0 by allocator GPU_0_bfc\n\t [[{{node Conv2D}}]]\nHint: If you want to see a list of allocated tensors when OOM happens, add report_tensor_allocations_upon_oom to RunOptions for current allocation info.\n\n\t [[Mean_1/_21]]\nHint: If you want to see a list of allocated tensors when OOM happens, add report_tensor_allocations_upon_oom to RunOptions for current allocation info.\n\n  (1) Resource exhausted: OOM when allocating tensor with shape[10000,16,32,32] and type float on /job:localhost/replica:0/task:0/device:GPU:0 by allocator GPU_0_bfc\n\t [[{{node Conv2D}}]]\nHint: If you want to see a list of allocated tensors when OOM happens, add report_tensor_allocations_upon_oom to RunOptions for current allocation info.\n\n0 successful operations.\n0 derived errors ignored.",
      "\nDuring handling of the above exception, another exception occurred:\n",
      "\u001b[0;31mResourceExhaustedError\u001b[0m                    Traceback (most recent call last)",
      "\u001b[0;32m<ipython-input-8-1dff3d1f02d5>\u001b[0m in \u001b[0;36m<module>\u001b[0;34m\u001b[0m\n\u001b[1;32m     34\u001b[0m \u001b[0;34m\u001b[0m\u001b[0m\n\u001b[1;32m     35\u001b[0m     \u001b[0mtest_acc\u001b[0m\u001b[0;34m,\u001b[0m \u001b[0mtest_loss\u001b[0m \u001b[0;34m=\u001b[0m \u001b[0;36m0\u001b[0m\u001b[0;34m,\u001b[0m \u001b[0;36m0\u001b[0m\u001b[0;34m\u001b[0m\u001b[0;34m\u001b[0m\u001b[0m\n\u001b[0;32m---> 36\u001b[0;31m     test_acc, test_loss = sess.run([accuracy, cross_entropy], \n\u001b[0m\u001b[1;32m     37\u001b[0m                                    {x: X_test, y: y_test_onehot})\n\u001b[1;32m     38\u001b[0m \u001b[0;34m\u001b[0m\u001b[0m\n",
      "\u001b[0;32m~/.local/lib/python3.8/site-packages/tensorflow/python/client/session.py\u001b[0m in \u001b[0;36mrun\u001b[0;34m(self, fetches, feed_dict, options, run_metadata)\u001b[0m\n\u001b[1;32m    955\u001b[0m \u001b[0;34m\u001b[0m\u001b[0m\n\u001b[1;32m    956\u001b[0m     \u001b[0;32mtry\u001b[0m\u001b[0;34m:\u001b[0m\u001b[0;34m\u001b[0m\u001b[0;34m\u001b[0m\u001b[0m\n\u001b[0;32m--> 957\u001b[0;31m       result = self._run(None, fetches, feed_dict, options_ptr,\n\u001b[0m\u001b[1;32m    958\u001b[0m                          run_metadata_ptr)\n\u001b[1;32m    959\u001b[0m       \u001b[0;32mif\u001b[0m \u001b[0mrun_metadata\u001b[0m\u001b[0;34m:\u001b[0m\u001b[0;34m\u001b[0m\u001b[0;34m\u001b[0m\u001b[0m\n",
      "\u001b[0;32m~/.local/lib/python3.8/site-packages/tensorflow/python/client/session.py\u001b[0m in \u001b[0;36m_run\u001b[0;34m(self, handle, fetches, feed_dict, options, run_metadata)\u001b[0m\n\u001b[1;32m   1178\u001b[0m     \u001b[0;31m# or if the call is a partial run that specifies feeds.\u001b[0m\u001b[0;34m\u001b[0m\u001b[0;34m\u001b[0m\u001b[0;34m\u001b[0m\u001b[0m\n\u001b[1;32m   1179\u001b[0m     \u001b[0;32mif\u001b[0m \u001b[0mfinal_fetches\u001b[0m \u001b[0;32mor\u001b[0m \u001b[0mfinal_targets\u001b[0m \u001b[0;32mor\u001b[0m \u001b[0;34m(\u001b[0m\u001b[0mhandle\u001b[0m \u001b[0;32mand\u001b[0m \u001b[0mfeed_dict_tensor\u001b[0m\u001b[0;34m)\u001b[0m\u001b[0;34m:\u001b[0m\u001b[0;34m\u001b[0m\u001b[0;34m\u001b[0m\u001b[0m\n\u001b[0;32m-> 1180\u001b[0;31m       results = self._do_run(handle, final_targets, final_fetches,\n\u001b[0m\u001b[1;32m   1181\u001b[0m                              feed_dict_tensor, options, run_metadata)\n\u001b[1;32m   1182\u001b[0m     \u001b[0;32melse\u001b[0m\u001b[0;34m:\u001b[0m\u001b[0;34m\u001b[0m\u001b[0;34m\u001b[0m\u001b[0m\n",
      "\u001b[0;32m~/.local/lib/python3.8/site-packages/tensorflow/python/client/session.py\u001b[0m in \u001b[0;36m_do_run\u001b[0;34m(self, handle, target_list, fetch_list, feed_dict, options, run_metadata)\u001b[0m\n\u001b[1;32m   1356\u001b[0m \u001b[0;34m\u001b[0m\u001b[0m\n\u001b[1;32m   1357\u001b[0m     \u001b[0;32mif\u001b[0m \u001b[0mhandle\u001b[0m \u001b[0;32mis\u001b[0m \u001b[0;32mNone\u001b[0m\u001b[0;34m:\u001b[0m\u001b[0;34m\u001b[0m\u001b[0;34m\u001b[0m\u001b[0m\n\u001b[0;32m-> 1358\u001b[0;31m       return self._do_call(_run_fn, feeds, fetches, targets, options,\n\u001b[0m\u001b[1;32m   1359\u001b[0m                            run_metadata)\n\u001b[1;32m   1360\u001b[0m     \u001b[0;32melse\u001b[0m\u001b[0;34m:\u001b[0m\u001b[0;34m\u001b[0m\u001b[0;34m\u001b[0m\u001b[0m\n",
      "\u001b[0;32m~/.local/lib/python3.8/site-packages/tensorflow/python/client/session.py\u001b[0m in \u001b[0;36m_do_call\u001b[0;34m(self, fn, *args)\u001b[0m\n\u001b[1;32m   1382\u001b[0m                     \u001b[0;34m'\\nsession_config.graph_options.rewrite_options.'\u001b[0m\u001b[0;34m\u001b[0m\u001b[0;34m\u001b[0m\u001b[0m\n\u001b[1;32m   1383\u001b[0m                     'disable_meta_optimizer = True')\n\u001b[0;32m-> 1384\u001b[0;31m       \u001b[0;32mraise\u001b[0m \u001b[0mtype\u001b[0m\u001b[0;34m(\u001b[0m\u001b[0me\u001b[0m\u001b[0;34m)\u001b[0m\u001b[0;34m(\u001b[0m\u001b[0mnode_def\u001b[0m\u001b[0;34m,\u001b[0m \u001b[0mop\u001b[0m\u001b[0;34m,\u001b[0m \u001b[0mmessage\u001b[0m\u001b[0;34m)\u001b[0m\u001b[0;34m\u001b[0m\u001b[0;34m\u001b[0m\u001b[0m\n\u001b[0m\u001b[1;32m   1385\u001b[0m \u001b[0;34m\u001b[0m\u001b[0m\n\u001b[1;32m   1386\u001b[0m   \u001b[0;32mdef\u001b[0m \u001b[0m_extend_graph\u001b[0m\u001b[0;34m(\u001b[0m\u001b[0mself\u001b[0m\u001b[0;34m)\u001b[0m\u001b[0;34m:\u001b[0m\u001b[0;34m\u001b[0m\u001b[0;34m\u001b[0m\u001b[0m\n",
      "\u001b[0;31mResourceExhaustedError\u001b[0m: 2 root error(s) found.\n  (0) Resource exhausted: OOM when allocating tensor with shape[10000,16,32,32] and type float on /job:localhost/replica:0/task:0/device:GPU:0 by allocator GPU_0_bfc\n\t [[node Conv2D (defined at <ipython-input-6-39f00ec25501>:38) ]]\nHint: If you want to see a list of allocated tensors when OOM happens, add report_tensor_allocations_upon_oom to RunOptions for current allocation info.\n\n\t [[Mean_1/_21]]\nHint: If you want to see a list of allocated tensors when OOM happens, add report_tensor_allocations_upon_oom to RunOptions for current allocation info.\n\n  (1) Resource exhausted: OOM when allocating tensor with shape[10000,16,32,32] and type float on /job:localhost/replica:0/task:0/device:GPU:0 by allocator GPU_0_bfc\n\t [[node Conv2D (defined at <ipython-input-6-39f00ec25501>:38) ]]\nHint: If you want to see a list of allocated tensors when OOM happens, add report_tensor_allocations_upon_oom to RunOptions for current allocation info.\n\n0 successful operations.\n0 derived errors ignored.\n\nErrors may have originated from an input operation.\nInput Source operations connected to node Conv2D:\n Placeholder (defined at <ipython-input-6-39f00ec25501>:7)\n\nInput Source operations connected to node Conv2D:\n Placeholder (defined at <ipython-input-6-39f00ec25501>:7)\n\nOriginal stack trace for 'Conv2D':\n  File \"/usr/lib/python3.8/runpy.py\", line 193, in _run_module_as_main\n    return _run_code(code, main_globals, None,\n  File \"/usr/lib/python3.8/runpy.py\", line 86, in _run_code\n    exec(code, run_globals)\n  File \"/home/ben/.local/lib/python3.8/site-packages/ipykernel_launcher.py\", line 16, in <module>\n    app.launch_new_instance()\n  File \"/home/ben/.local/lib/python3.8/site-packages/traitlets/config/application.py\", line 664, in launch_instance\n    app.start()\n  File \"/home/ben/.local/lib/python3.8/site-packages/ipykernel/kernelapp.py\", line 583, in start\n    self.io_loop.start()\n  File \"/home/ben/.local/lib/python3.8/site-packages/tornado/platform/asyncio.py\", line 149, in start\n    self.asyncio_loop.run_forever()\n  File \"/usr/lib/python3.8/asyncio/base_events.py\", line 570, in run_forever\n    self._run_once()\n  File \"/usr/lib/python3.8/asyncio/base_events.py\", line 1859, in _run_once\n    handle._run()\n  File \"/usr/lib/python3.8/asyncio/events.py\", line 81, in _run\n    self._context.run(self._callback, *self._args)\n  File \"/home/ben/.local/lib/python3.8/site-packages/tornado/ioloop.py\", line 690, in <lambda>\n    lambda f: self._run_callback(functools.partial(callback, future))\n  File \"/home/ben/.local/lib/python3.8/site-packages/tornado/ioloop.py\", line 743, in _run_callback\n    ret = callback()\n  File \"/home/ben/.local/lib/python3.8/site-packages/tornado/gen.py\", line 787, in inner\n    self.run()\n  File \"/home/ben/.local/lib/python3.8/site-packages/tornado/gen.py\", line 748, in run\n    yielded = self.gen.send(value)\n  File \"/home/ben/.local/lib/python3.8/site-packages/ipykernel/kernelbase.py\", line 365, in process_one\n    yield gen.maybe_future(dispatch(*args))\n  File \"/home/ben/.local/lib/python3.8/site-packages/tornado/gen.py\", line 209, in wrapper\n    yielded = next(result)\n  File \"/home/ben/.local/lib/python3.8/site-packages/ipykernel/kernelbase.py\", line 268, in dispatch_shell\n    yield gen.maybe_future(handler(stream, idents, msg))\n  File \"/home/ben/.local/lib/python3.8/site-packages/tornado/gen.py\", line 209, in wrapper\n    yielded = next(result)\n  File \"/home/ben/.local/lib/python3.8/site-packages/ipykernel/kernelbase.py\", line 543, in execute_request\n    self.do_execute(\n  File \"/home/ben/.local/lib/python3.8/site-packages/tornado/gen.py\", line 209, in wrapper\n    yielded = next(result)\n  File \"/home/ben/.local/lib/python3.8/site-packages/ipykernel/ipkernel.py\", line 300, in do_execute\n    res = shell.run_cell(code, store_history=store_history, silent=silent)\n  File \"/home/ben/.local/lib/python3.8/site-packages/ipykernel/zmqshell.py\", line 536, in run_cell\n    return super(ZMQInteractiveShell, self).run_cell(*args, **kwargs)\n  File \"/home/ben/.local/lib/python3.8/site-packages/IPython/core/interactiveshell.py\", line 2857, in run_cell\n    result = self._run_cell(\n  File \"/home/ben/.local/lib/python3.8/site-packages/IPython/core/interactiveshell.py\", line 2886, in _run_cell\n    return runner(coro)\n  File \"/home/ben/.local/lib/python3.8/site-packages/IPython/core/async_helpers.py\", line 68, in _pseudo_sync_runner\n    coro.send(None)\n  File \"/home/ben/.local/lib/python3.8/site-packages/IPython/core/interactiveshell.py\", line 3062, in run_cell_async\n    has_raised = await self.run_ast_nodes(code_ast.body, cell_name,\n  File \"/home/ben/.local/lib/python3.8/site-packages/IPython/core/interactiveshell.py\", line 3254, in run_ast_nodes\n    if (await self.run_code(code, result,  async_=asy)):\n  File \"/home/ben/.local/lib/python3.8/site-packages/IPython/core/interactiveshell.py\", line 3331, in run_code\n    exec(code_obj, self.user_global_ns, self.user_ns)\n  File \"<ipython-input-6-39f00ec25501>\", line 38, in <module>\n    conv1 = tf.nn.conv2d(x, W_conv1, strides=[1, 1, 1, 1], padding='SAME') + B_conv1\n  File \"/home/ben/.local/lib/python3.8/site-packages/tensorflow/python/ops/nn_ops.py\", line 2006, in conv2d\n    return gen_nn_ops.conv2d(input,  # pylint: disable=redefined-builtin\n  File \"/home/ben/.local/lib/python3.8/site-packages/tensorflow/python/ops/gen_nn_ops.py\", line 965, in conv2d\n    _, _, _op, _outputs = _op_def_library._apply_op_helper(\n  File \"/home/ben/.local/lib/python3.8/site-packages/tensorflow/python/framework/op_def_library.py\", line 742, in _apply_op_helper\n    op = g._create_op_internal(op_type_name, inputs, dtypes=None,\n  File \"/home/ben/.local/lib/python3.8/site-packages/tensorflow/python/framework/ops.py\", line 3319, in _create_op_internal\n    ret = Operation(\n  File \"/home/ben/.local/lib/python3.8/site-packages/tensorflow/python/framework/ops.py\", line 1791, in __init__\n    self._traceback = tf_stack.extract_stack()\n"
     ]
    }
   ],
   "source": [
    "########## Training ##########\n",
    "batch_size = 64 # You are free to change it\n",
    "x_train_batches, y_train_batches = make_batches(X_train, y_train_onehot, batch_size)\n",
    "epochs = 10  # You are free to change it\n",
    "N_Batches = len(x_train_batches)\n",
    "\n",
    "train_acc  = np.zeros(epochs)\n",
    "train_loss = np.zeros(epochs)\n",
    "val_acc  = np.zeros(epochs)\n",
    "val_loss = np.zeros(epochs)\n",
    "\n",
    "with tf.Session(config=tf.ConfigProto(gpu_options=tf.GPUOptions(allow_growth=True))) as sess:\n",
    "    sess.run([tf.global_variables_initializer(), tf.local_variables_initializer()])\n",
    "\n",
    "    for epoch in range(epochs):\n",
    "        print()\n",
    "        print(\"*\" * 10, \"Epoch %3i\"%epoch, \"*\" * 10)\n",
    "\n",
    "        batch_acc = np.zeros(N_Batches)\n",
    "        batch_loss = np.zeros(N_Batches)\n",
    "        for n in range(N_Batches):\n",
    "            _, batch_acc[n], batch_loss[n] = sess.run([trainer, accuracy, cross_entropy],\n",
    "                                                      {x: x_train_batches[n], y: y_train_batches[n]})\n",
    "            # print(\"Batch %3d/%d: Acc:%0.4f , Loss:%0.4f\"%(n, N_Batches, batch_acc[n], batch_loss[n]))\n",
    "\n",
    "        train_acc[epoch] = np.mean(batch_acc)\n",
    "        train_loss[epoch] = np.mean(batch_loss)\n",
    "        print(\"Train:\\t\\tAccuracy= %0.4f \\tLoss= %0.4f\"%(train_acc[epoch], train_loss[epoch]))\n",
    "\n",
    "        ########## Validation ##########\n",
    "        val_acc[epoch], val_loss[epoch] = sess.run([accuracy, cross_entropy],\n",
    "                                                   {x: X_val, y: y_val_onehot})\n",
    "        print(\"Validation:\\tAccuracy= %0.4f \\tLoss= %0.4f\"%(val_acc[epoch], val_loss[epoch]))\n",
    "        \n",
    "    test_acc, test_loss = 0, 0\n",
    "    test_acc, test_loss = sess.run([accuracy, cross_entropy], \n",
    "                                   {x: X_test, y: y_test_onehot})\n",
    "\n",
    "    w_conv1_CIFAR10 = sess.run(W_conv1)\n",
    "    b_conv1_CIFAR10 = sess.run(B_conv1)\n",
    "    w_conv2_CIFAR10 = sess.run(W_conv2)\n",
    "    b_conv2_CIFAR10 = sess.run(B_conv2)\n",
    "    w_conv3_CIFAR10 = sess.run(W_conv3)\n",
    "    b_conv3_CIFAR10 = sess.run(B_conv3)\n",
    "    w_conv4_CIFAR10 = sess.run(W_conv4)\n",
    "    b_conv4_CIFAR10 = sess.run(B_conv4)\n",
    "    w_conv5_CIFAR10 = sess.run(W_conv5)\n",
    "    b_conv5_CIFAR10 = sess.run(B_conv5)\n",
    "    w_fc1_CIFAR10 = sess.run(W_fc1)\n",
    "    b_fc1_CIFAR10 = sess.run(B_fc1)############################################################\n",
    "#            TODO: Implement Test Phase                    #\n",
    "############################################################\n",
    "\n",
    "print(\"Test:\\tAccuracy= %0.4f \\tLoss= %0.4f\"%(test_acc, test_loss))\n",
    "############################################################"
   ]
  },
  {
   "cell_type": "markdown",
   "metadata": {
    "colab_type": "text",
    "id": "4vfhtgSHOHXu"
   },
   "source": [
    "### Training Diagram"
   ]
  },
  {
   "cell_type": "code",
   "execution_count": 72,
   "metadata": {
    "colab": {
     "base_uri": "https://localhost:8080/",
     "height": 573
    },
    "colab_type": "code",
    "id": "1Hh5w3LuOHXv",
    "outputId": "28f22a0b-4a96-449d-9f27-b5866c550fcb"
   },
   "outputs": [
    {
     "data": {
      "image/png": "[encoded data removed]",
      "text/plain": [
       "<Figure size 432x288 with 1 Axes>"
      ]
     },
     "metadata": {
      "needs_background": "light",
      "tags": []
     },
     "output_type": "display_data"
    },
    {
     "data": {
      "image/png": "[encoded data removed]",
      "text/plain": [
       "<Figure size 432x288 with 1 Axes>"
      ]
     },
     "metadata": {
      "needs_background": "light",
      "tags": []
     },
     "output_type": "display_data"
    }
   ],
   "source": [
    "########## Plot metrics #########################\n",
    "fig = plt.figure()\n",
    "plt.plot(range(epochs), train_acc, label='Train')\n",
    "plt.plot(range(epochs), val_acc, label='Validation')\n",
    "plt.title(\"Training and Validation Accuracy\")\n",
    "plt.xlabel(\"epoch\")\n",
    "plt.ylabel(\"Accuracy\")\n",
    "plt.grid(True)\n",
    "plt.legend(loc=0)\n",
    "plt.show()\n",
    "\n",
    "fig = plt.figure()\n",
    "plt.plot(range(epochs), train_loss, label='Train')\n",
    "plt.plot(range(epochs), val_loss, label='Validation')\n",
    "plt.title(\"Training and Validation Loss\")\n",
    "plt.xlabel(\"epoch\")\n",
    "plt.ylabel(\"Cross entropy\")\n",
    "plt.grid(True)\n",
    "plt.legend(loc=0)\n",
    "plt.show()"
   ]
  },
  {
   "cell_type": "markdown",
   "metadata": {
    "colab_type": "text",
    "id": "SpflKzxROHX1"
   },
   "source": [
    "## Part2: Visualizing the Network (5 pts.)"
   ]
  },
  {
   "cell_type": "markdown",
   "metadata": {
    "colab_type": "text",
    "id": "1i03b0mgOHX1"
   },
   "source": [
    "Now, we want to check the weights to see how the network realy works and what it does. Consider the wieghts of the first convolutional layer, find its weights values and print the values of 2 arbitrary filters:"
   ]
  },
  {
   "cell_type": "code",
   "execution_count": 73,
   "metadata": {
    "colab": {
     "base_uri": "https://localhost:8080/",
     "height": 1000
    },
    "colab_type": "code",
    "id": "2Vk3CZ4IOHX4",
    "outputId": "43f0f112-60b9-44be-fe3a-6daeb17e30d3"
   },
   "outputs": [
    {
     "name": "stdout",
     "output_type": "stream",
     "text": [
      "Filter 0: \n",
      "\n",
      "\n",
      "[[-2.0572891e-07 -8.6984029e-09 -9.6363728e-08 -3.3911533e-07\n",
      "  -2.0703930e-13]\n",
      " [-7.9058779e-08 -5.9395827e-10 -7.5868609e-09 -2.8061461e-07\n",
      "  -3.8544602e-13]\n",
      " [-1.5740860e-09 -1.8724195e-12 -3.0104014e-10 -7.2643530e-08\n",
      "  -6.4570785e-14]\n",
      " [-3.0780524e-13 -4.1047739e-19 -4.2330934e-13 -2.0287148e-10\n",
      "  -4.5645985e-13]\n",
      " [-2.1202922e-09 -3.8811017e-11 -1.1287604e-10 -2.2244009e-07\n",
      "  -3.6725092e-10]]\n",
      "[[-6.5760514e-07 -3.4992087e-08 -1.3632045e-07 -4.5250906e-07\n",
      "  -1.2010004e-13]\n",
      " [-3.1813830e-08 -3.2440752e-09 -5.5328748e-08 -1.6563118e-06\n",
      "  -3.9890031e-13]\n",
      " [-7.8470025e-10 -7.4227170e-12 -2.5249240e-09 -3.3211160e-07\n",
      "  -3.8879256e-14]\n",
      " [-1.0399590e-14 -1.8995067e-23 -1.2904314e-13 -7.0710260e-10\n",
      "  -1.8809084e-13]\n",
      " [-7.3935619e-10 -8.4300920e-11 -5.4172106e-10 -4.4335650e-07\n",
      "  -3.2450742e-10]]\n",
      "[[ 9.36504819e-07 -1.67571770e-07 -7.63749540e-07 -2.40504960e-06\n",
      "  -1.32840275e-11]\n",
      " [-1.50579766e-07 -9.84968729e-09 -3.23486631e-07 -1.00829503e-07\n",
      "  -2.45202070e-11]\n",
      " [-1.49601345e-08 -1.22480193e-09 -3.05863850e-08 -7.71823522e-07\n",
      "  -9.18369113e-12]\n",
      " [-3.10570729e-14 -8.28778186e-21 -1.30846896e-12 -7.94879718e-10\n",
      "  -4.43739528e-13]\n",
      " [-2.05803222e-10 -9.78706872e-12 -2.96187352e-10 -9.12614908e-08\n",
      "  -1.89196141e-11]]\n",
      "\n",
      "Filter 11: \n",
      "\n",
      "\n",
      "[[-0.06398302 -0.05673904 -0.07337682 -0.12083817  0.03274149]\n",
      " [-0.03001876 -0.01118972 -0.05995325 -0.01519549  0.03718922]\n",
      " [ 0.01823692 -0.06243708 -0.08178177 -0.08180597 -0.06521323]\n",
      " [-0.00618749  0.05130177 -0.0443094  -0.13146116 -0.04442246]\n",
      " [ 0.04581776 -0.04720128 -0.20224771  0.00799634  0.05632652]]\n",
      "[[-8.3390288e-02 -5.3074375e-02 -8.2382385e-04 -3.8055941e-03\n",
      "   1.6984198e-02]\n",
      " [-3.2810427e-02  4.0352255e-02  5.1101282e-02  1.2748456e-01\n",
      "   1.7753828e-02]\n",
      " [ 2.2144193e-02  7.1246731e-03  4.6263572e-02 -5.1249634e-02\n",
      "  -6.1972026e-02]\n",
      " [-9.4940975e-02 -4.5742773e-02  5.8079202e-02 -1.0006291e-01\n",
      "  -8.7141082e-02]\n",
      " [ 2.8356628e-02 -3.6074722e-05 -1.5994368e-01 -2.7093505e-02\n",
      "   5.6408256e-02]]\n",
      "[[ 0.04202807  0.09064007  0.08260001  0.03323631  0.00743713]\n",
      " [ 0.00433189  0.05446521  0.11584345  0.09982763  0.05530573]\n",
      " [ 0.08397978 -0.0640929   0.20007037  0.05526146 -0.01015294]\n",
      " [-0.01074529  0.02087475 -0.01533691  0.09656177  0.09431396]\n",
      " [-0.03511886 -0.06215668 -0.13861594 -0.06989062  0.17934476]]\n"
     ]
    }
   ],
   "source": [
    "##########################################################################\n",
    "# TODO                                                                   #\n",
    "# Note: To retrieve the values of the weight-variables from TensorFlow,  #\n",
    "#       feed-dict is not necessary because                               #\n",
    "#       nothing is calculated.                                           #\n",
    "#       e.g., w = sess.run(weights)                                      #\n",
    "##########################################################################\n",
    "\n",
    "print('Filter 0: \\n\\n')\n",
    "print(w_conv1_CIFAR10[:,:,0,0])\n",
    "print(w_conv1_CIFAR10[:,:,1,0])\n",
    "print(w_conv1_CIFAR10[:,:,2,0])\n",
    "print()\n",
    "print('Filter 11: \\n\\n')\n",
    "print(w_conv1_CIFAR10[:,:,0,11])\n",
    "print(w_conv1_CIFAR10[:,:,1,11])\n",
    "print(w_conv1_CIFAR10[:,:,2,11])\n",
    "\n",
    "##########################################################################"
   ]
  },
  {
   "cell_type": "markdown",
   "metadata": {
    "colab_type": "text",
    "id": "j9AJLoSaOHYB"
   },
   "source": [
    "Now let's visualize the filters of the first conv layer. There are lots of ways to code for visualization. You are free to choose any way you want. However below is function which is provided for you to plot the weights."
   ]
  },
  {
   "cell_type": "code",
   "execution_count": 74,
   "metadata": {
    "colab": {
     "base_uri": "https://localhost:8080/",
     "height": 722
    },
    "colab_type": "code",
    "id": "rXyw7_N0OHYF",
    "outputId": "e0a7db12-3219-4cbb-a12e-9cbf1dc735be"
   },
   "outputs": [
    {
     "data": {
      "image/png": "[encoded data removed]",
      "text/plain": [
       "<Figure size 432x288 with 16 Axes>"
      ]
     },
     "metadata": {
      "tags": []
     },
     "output_type": "display_data"
    },
    {
     "data": {
      "image/png": "[encoded data removed]",
      "text/plain": [
       "<Figure size 432x288 with 16 Axes>"
      ]
     },
     "metadata": {
      "tags": []
     },
     "output_type": "display_data"
    },
    {
     "data": {
      "image/png": "[encoded data removed]",
      "text/plain": [
       "<Figure size 432x288 with 16 Axes>"
      ]
     },
     "metadata": {
      "tags": []
     },
     "output_type": "display_data"
    }
   ],
   "source": [
    "import math\n",
    "def plot_conv_weights(w, input_channel=0):\n",
    "    # The argument w is a 4-dim array.(e.g. weights_conv1 with the shape of [5,5,3,64])\n",
    "    # The argument input_channel shows the specified channel of all filters.\n",
    "    \n",
    "    # Get the lowest and highest values for the weights.\n",
    "    # This is used to correct the colour intensity across\n",
    "    # the images so they can be compared with each other.\n",
    "    w_min = np.min(w)\n",
    "    w_max = np.max(w)\n",
    "    abs_max = max(abs(w_min), abs(w_max))\n",
    "\n",
    "    # Number of filters used in the conv. layer.\n",
    "    num_filters = w.shape[3]\n",
    "\n",
    "    # Number of grids to plot.\n",
    "    # Rounded-up, square-root of the number of filters.\n",
    "    num_grids = math.ceil(math.sqrt(num_filters))\n",
    "    \n",
    "    # Create figure with a grid of sub-plots.\n",
    "    fig, axes = plt.subplots(num_grids, num_grids)\n",
    "\n",
    "    # Plot all the filter-weights.\n",
    "    for i, ax in enumerate(axes.flat):\n",
    "        # Only plot the valid filter-weights.\n",
    "        if i<num_filters:\n",
    "            # Get the weights for the i'th filter of the input channel.\n",
    "            # The format of this 4-dim tensor is determined by the\n",
    "            # TensorFlow API. See Tutorial #02 for more details.\n",
    "            img = w[:, :, input_channel, i]\n",
    "\n",
    "            # Plot image.\n",
    "            ax.imshow(img, vmin=-abs_max, vmax=abs_max,\n",
    "                      interpolation='nearest', cmap='seismic')\n",
    "        \n",
    "        # Remove ticks from the plot.\n",
    "        ax.set_xticks([])\n",
    "        ax.set_yticks([])\n",
    "    \n",
    "    # Ensure the plot is shown correctly with multiple plots\n",
    "    # in a single Notebook cell.\n",
    "    plt.show()\n",
    "\n",
    "    \n",
    "##########################################################################\n",
    "# TODO: call the function above or use your own way here                 #\n",
    "##########################################################################\n",
    "plot_conv_weights(w_conv1_CIFAR10, 0)\n",
    "plot_conv_weights(w_conv1_CIFAR10, 1)\n",
    "plot_conv_weights(w_conv1_CIFAR10, 2)\n",
    "\n",
    "##########################################################################\n"
   ]
  },
  {
   "cell_type": "markdown",
   "metadata": {
    "colab_type": "text",
    "id": "jS8Iv_v_OHYP"
   },
   "source": [
    "## Part3: Transfer Learning (+10 pts. - optional)"
   ]
  },
  {
   "cell_type": "markdown",
   "metadata": {
    "colab_type": "text",
    "id": "9cqY8NoKOHYQ"
   },
   "source": [
    "In all the machine learning problems we need data to train our models. However, the volume of the data might not be sufficient for the considered model. In such cases, we may use a model which is trained on a similar dataset probably for a different objective. Then we transfer to the main problem and fine- tune or replace some parts of the network. "
   ]
  },
  {
   "cell_type": "markdown",
   "metadata": {
    "colab_type": "text",
    "id": "ioP-zDmbOHYR"
   },
   "source": [
    "In this exercise, we are going to implement the transfer learning concept on CNN. For this purpose, we use the network that you have trained on Part 1 of this homework (above) to classify three new classes (i.e. bee, elephant, and fox) on CIFAR-100 dataset. Let's first load the data:"
   ]
  },
  {
   "cell_type": "code",
   "execution_count": null,
   "metadata": {
    "colab": {},
    "colab_type": "code",
    "id": "49Rg0-0_OHYS"
   },
   "outputs": [],
   "source": [
    "from load_data import load_cifar100 #this function provided in the attached file loads the data of CIFAR100 database\n",
    "\n",
    "def load_cifar100_data():\n",
    "    dataset_dir = '/content/drive/My Drive/HW 3.3 CNN on CIFAR/data/cifar-100-python'\n",
    "    \n",
    "    X_train, y_train, X_test, y_test = load_cifar100(dataset_dir)\n",
    "    \n",
    "    return X_train, y_train, X_test, y_test"
   ]
  },
  {
   "cell_type": "code",
   "execution_count": 76,
   "metadata": {
    "colab": {
     "base_uri": "https://localhost:8080/",
     "height": 335
    },
    "colab_type": "code",
    "id": "gCndtiCMOHYY",
    "outputId": "2d9f3690-579d-4d42-f796-28428733814a"
   },
   "outputs": [
    {
     "name": "stdout",
     "output_type": "stream",
     "text": [
      "X_train shape: (50000, 32, 32, 3)\n",
      "y_train shape: (50000, 1)\n",
      "X_test shape: (10000, 32, 32, 3)\n",
      "y_test shape: (10000, 1)\n"
     ]
    },
    {
     "data": {
      "image/png": "[encoded data removed]",
      "text/plain": [
       "<Figure size 432x288 with 1 Axes>"
      ]
     },
     "metadata": {
      "needs_background": "light",
      "tags": []
     },
     "output_type": "display_data"
    }
   ],
   "source": [
    "X_train, y_train, X_test, y_test = load_cifar100_data()\n",
    "\n",
    "print('X_train shape:', X_train.shape)\n",
    "print('y_train shape:', y_train.shape)\n",
    "print('X_test shape:', X_test.shape)\n",
    "print('y_test shape:', y_test.shape)\n",
    "\n",
    "import matplotlib.pyplot as plt\n",
    "plt.imshow(X_train[1].astype(int))#represnting a sample data from CIFAR-100\n",
    "plt.show()"
   ]
  },
  {
   "cell_type": "markdown",
   "metadata": {
    "colab_type": "text",
    "id": "GEbvS0sUOHYd"
   },
   "source": [
    "By successfully runing the above code, you have loaded the data and also you can see a sample data from CIFAR-100. The below code will seprate the specified classes (i.e. bee(6), elephant(31), and fox(34)) for the new classification problem."
   ]
  },
  {
   "cell_type": "code",
   "execution_count": null,
   "metadata": {
    "colab": {},
    "colab_type": "code",
    "id": "w8c15L7yOHYd"
   },
   "outputs": [],
   "source": [
    "selected_images_train = np.zeros([1,32,32,3])\n",
    "selected_labels_train = np.zeros([1,1])\n",
    "for i in range(50000):\n",
    "    label = y_train[i]\n",
    "    if label==6 or label==31 or label==34:\n",
    "        selected_images_train = np.append(selected_images_train,np.reshape(X_train[i,:,:,:],[1,32,32,3]),axis=0)\n",
    "        selected_labels_train = np.append(selected_labels_train,np.reshape(label,[1,1]),axis=0)\n",
    "selected_images_train = selected_images_train[1:]# to remove the first defined np..zeros data\n",
    "selected_labels_train = selected_labels_train[1:]# to remove the first defined np..zeros data\n",
    "\n",
    "\n",
    "selected_images_test = np.zeros([1,32,32,3])\n",
    "selected_labels_test = np.zeros([1,1])\n",
    "for i in range(10000):\n",
    "    label = y_test[i]\n",
    "    if label==6 or label==31 or label==34:\n",
    "        selected_images_test = np.append(selected_images_test,np.reshape(X_test[i,:,:,:],[1,32,32,3]),axis=0)\n",
    "        selected_labels_test = np.append(selected_labels_test,np.reshape(label,[1,1]),axis=0)\n",
    "selected_images_test = selected_images_test[1:]# to remove the first defined np..zeros data\n",
    "selected_labels_test = selected_labels_test[1:]# to remove the first defined np..zeros data"
   ]
  },
  {
   "cell_type": "code",
   "execution_count": 78,
   "metadata": {
    "colab": {
     "base_uri": "https://localhost:8080/",
     "height": 121
    },
    "colab_type": "code",
    "id": "yKzol_pJOHYj",
    "outputId": "a7dc7d7e-9460-4a8a-f7f9-9bc75fbae4da"
   },
   "outputs": [
    {
     "name": "stdout",
     "output_type": "stream",
     "text": [
      "images_train shape: (1200, 32, 32, 3)\n",
      "labels_train shape: (1200, 1)\n",
      "images_validation shape: (300, 32, 32, 3)\n",
      "labels_validation shape: (300, 1)\n",
      "images_test shape: (300, 32, 32, 3)\n",
      "labels_test shape: (300, 1)\n"
     ]
    }
   ],
   "source": [
    "images_train = selected_images_train[:int(selected_images_train.shape[0]*0.8),:,:,:]\n",
    "labels_train = selected_labels_train[:int(selected_images_train.shape[0]*0.8),:]\n",
    "\n",
    "images_validation = selected_images_train[int(selected_images_train.shape[0]*0.8):,:,:,:]\n",
    "labels_validation = selected_labels_train[int(selected_images_train.shape[0]*0.8):,:]\n",
    "\n",
    "images_test = selected_images_test\n",
    "labels_test = selected_labels_test\n",
    "\n",
    "\n",
    "print('images_train shape:', images_train.shape)\n",
    "print('labels_train shape:', labels_train.shape)\n",
    "\n",
    "print('images_validation shape:', images_validation.shape)\n",
    "print('labels_validation shape:', labels_validation.shape)\n",
    "\n",
    "print('images_test shape:', images_test.shape)\n",
    "print('labels_test shape:', labels_test.shape)"
   ]
  },
  {
   "cell_type": "code",
   "execution_count": null,
   "metadata": {
    "colab": {},
    "colab_type": "code",
    "id": "uoW5rSzyOHYn"
   },
   "outputs": [],
   "source": [
    "import numpy as np\n",
    "\n",
    "from sklearn.preprocessing import OneHotEncoder # this function is used to prepare one-hot encoded labels\n",
    "encoder = OneHotEncoder(sparse=False)\n",
    "\n",
    "encoder.fit(selected_labels_train)#this line will fit 'encoder' to encode the labels\n",
    "\n",
    "labels_train_onehot = encoder.transform(labels_train)# encoding train labels (one-hot coding)\n",
    "labels_val_onehot   = encoder.transform(labels_validation)  # encoding train labels (one-hot coding)\n",
    "labels_test_onehot  = encoder.transform(labels_test) # encoding test  labels (one-hot coding)"
   ]
  },
  {
   "cell_type": "markdown",
   "metadata": {
    "colab_type": "text",
    "id": "YLxBTeOLOHYs"
   },
   "source": [
    "To implement the transfer learning, we need to use the previous model and transfer it to the new problem. For this end, you need to freeze the convolution layers and also the first fully connected layer which means that they should not be updated in the new training process. For the last two fully connected layers, we want to fine-tune the values. However, you should replace the last layer (output layer) with a 3-neuron layer to represent the score for each class."
   ]
  },
  {
   "cell_type": "markdown",
   "metadata": {
    "colab_type": "text",
    "id": "n2oDPkNeOHYt"
   },
   "source": [
    "There are several methods that you can implement the discussed process with TensorFlow. You are free to do any way you want.\n",
    "The below code redefine the network and use the weights of the network trained on CIFAR-10. Then, the frozen weights can be defined as either constant or non-trainable variables. Besides, the fine-tuning weights are also defined as variables with their previous weights in the definition. Anyway, since there are other ways to implement this job, you can do it with your own method."
   ]
  },
  {
   "cell_type": "code",
   "execution_count": null,
   "metadata": {
    "colab": {},
    "colab_type": "code",
    "id": "gkaFWjhQOHYu"
   },
   "outputs": [],
   "source": [
    "############################################################\n",
    "#            TODO: Implement Accuracy Part                 #\n",
    "############################################################\n",
    "\n",
    "# get the weights form previous network:\n",
    "# e.g., w_conv1_CIFAR10 = sess.run(W_conv1)\n",
    "\n",
    "\n",
    "tf.reset_default_graph()\n",
    "\n",
    "x = tf.placeholder(tf.float32, [None, 32, 32, 3]) # placeholder for input data\n",
    "y_new = tf.placeholder(tf.float32, [None, 3])# placeholder for labels (one-hot encoded)\n",
    "\n",
    "# Re-define the convolutional layers\n",
    "conv1 = tf.nn.conv2d(x, w_conv1_CIFAR10, strides=[1, 1, 1, 1], padding='SAME') + b_conv1_CIFAR10\n",
    "conv1_relu = tf.nn.relu(conv1)\n",
    "conv2 = tf.nn.conv2d(conv1_relu, w_conv2_CIFAR10, strides=[1, 1, 1, 1], padding='SAME') + b_conv2_CIFAR10\n",
    "conv2_relu = tf.nn.relu(conv2)\n",
    "\n",
    "pooling1 = tf.nn.max_pool(conv2_relu, ksize=[1, 3, 3, 1], strides=[1, 2, 2, 1], padding='SAME')\n",
    "conv3 = tf.nn.conv2d(pooling1, w_conv3_CIFAR10, strides=[1, 1, 1, 1], padding='SAME') + b_conv3_CIFAR10\n",
    "conv3_relu = tf.nn.relu(conv3)\n",
    "conv4 = tf.nn.conv2d(conv3_relu, w_conv4_CIFAR10, strides=[1, 1, 1, 1], padding='SAME') + b_conv4_CIFAR10\n",
    "conv4_relu = tf.nn.relu(conv4)\n",
    "\n",
    "pooling2 = tf.nn.max_pool(conv4_relu, ksize=[1, 3, 3, 1], strides=[1, 2, 2, 1], padding='SAME')\n",
    "conv5 = tf.nn.conv2d(pooling2, w_conv5_CIFAR10, strides=[1, 1, 1, 1], padding='SAME') + b_conv5_CIFAR10\n",
    "conv5_relu = tf.nn.relu(conv5)\n",
    "conv5_relu = tf.reshape(conv5_relu, [tf.shape(conv5_relu)[0], conv5_relu.shape[1]*conv5_relu.shape[2]*conv5_relu.shape[3]])\n",
    "\n",
    "fc1 = tf.matmul(conv5_relu, w_fc1_CIFAR10) + b_fc1_CIFAR10\n",
    "fc1_relu = tf.nn.relu(fc1)\n",
    "\n",
    "# Define weights for the second FC layer (fc1 is already defined in the previous model)\n",
    "W_fc2_new = tf.get_variable(name='W_fc2', shape=[128, 128], initializer=tf.random_normal_initializer(mean=0.0, stddev=0.05))\n",
    "B_fc2_new = tf.get_variable(name='B_fc2', shape=[128], initializer=tf.zeros_initializer)\n",
    "# Define based on the first fully connected layer.\n",
    "fc2_new = tf.matmul(fc1_relu, W_fc2_new) + B_fc2_new\n",
    "fc2_relu_new = tf.nn.relu(fc2_new)\n",
    "\n",
    "W_fc3_new = tf.get_variable(name='W_fc3', shape=[128, 3], initializer=tf.random_normal_initializer(mean=0.0, stddev=0.05))\n",
    "B_fc3_new = tf.get_variable(name='B_fc3', shape=[3], initializer=tf.zeros_initializer)\n",
    "# Define based on the second fully connected layer (fc2_new).\n",
    "logit = tf.matmul(fc2_relu_new, W_fc3_new) + B_fc3_new\n",
    "\n",
    "y_hat = tf.nn.softmax(logit)\n",
    "\n",
    "\n",
    "#############################################################\n",
    "\n",
    "########## Cross entropy loss ##########\n",
    "new_cross_entropy = tf.reduce_mean(tf.nn.softmax_cross_entropy_with_logits_v2(logits=logit, labels=y_new))\n",
    "\n",
    "############################################################\n",
    "#            TODO: Implement the optimizer so that only    #\n",
    "#                  variales defined above are updated.     #\n",
    "############################################################\n",
    "lr = 1e-4\n",
    "new_optimizer = tf.train.AdamOptimizer(learning_rate=lr)\n",
    "new_trainer = new_optimizer.minimize(new_cross_entropy, var_list=[W_fc2_new, W_fc3_new, B_fc2_new, B_fc3_new])\n",
    "############################################################\n",
    "\n",
    "############################################################\n",
    "#            TODO: Implement Accuracy                      #\n",
    "############################################################\n",
    "correct_preds = tf.argmax(y_new, axis=1)\n",
    "model_preds = tf.argmax(y_hat, axis=1)\n",
    "new_accuracy = tf.reduce_mean(tf.cast(tf.equal(model_preds, correct_preds), tf.float32))\n",
    "############################################################"
   ]
  },
  {
   "cell_type": "markdown",
   "metadata": {
    "colab_type": "text",
    "id": "x8NuokmbOHY0"
   },
   "source": [
    "Now, go for the rest of the job and start training:"
   ]
  },
  {
   "cell_type": "code",
   "execution_count": 95,
   "metadata": {
    "colab": {
     "base_uri": "https://localhost:8080/",
     "height": 1000
    },
    "colab_type": "code",
    "id": "O_GUfiSSOHY0",
    "outputId": "32596ff3-0143-4975-9941-54a8b228cef5"
   },
   "outputs": [
    {
     "name": "stdout",
     "output_type": "stream",
     "text": [
      "\n",
      "********** Epoch   0 **********\n",
      "Train:\t\tAccuracy= 0.3134 \tLoss= 2.0680\n",
      "Validation:\tAccuracy= 0.2700 \tLoss= 1.9548\n",
      "\n",
      "********** Epoch   1 **********\n",
      "Train:\t\tAccuracy= 0.3418 \tLoss= 1.7289\n",
      "Validation:\tAccuracy= 0.3300 \tLoss= 1.6902\n",
      "\n",
      "********** Epoch   2 **********\n",
      "Train:\t\tAccuracy= 0.3843 \tLoss= 1.5152\n",
      "Validation:\tAccuracy= 0.3800 \tLoss= 1.5178\n",
      "\n",
      "********** Epoch   3 **********\n",
      "Train:\t\tAccuracy= 0.4051 \tLoss= 1.3701\n",
      "Validation:\tAccuracy= 0.3800 \tLoss= 1.4047\n",
      "\n",
      "********** Epoch   4 **********\n",
      "Train:\t\tAccuracy= 0.4368 \tLoss= 1.2673\n",
      "Validation:\tAccuracy= 0.4000 \tLoss= 1.3225\n",
      "\n",
      "********** Epoch   5 **********\n",
      "Train:\t\tAccuracy= 0.4560 \tLoss= 1.1907\n",
      "Validation:\tAccuracy= 0.4033 \tLoss= 1.2591\n",
      "\n",
      "********** Epoch   6 **********\n",
      "Train:\t\tAccuracy= 0.4719 \tLoss= 1.1301\n",
      "Validation:\tAccuracy= 0.4133 \tLoss= 1.2076\n",
      "\n",
      "********** Epoch   7 **********\n",
      "Train:\t\tAccuracy= 0.4985 \tLoss= 1.0813\n",
      "Validation:\tAccuracy= 0.4200 \tLoss= 1.1660\n",
      "\n",
      "********** Epoch   8 **********\n",
      "Train:\t\tAccuracy= 0.5101 \tLoss= 1.0417\n",
      "Validation:\tAccuracy= 0.4467 \tLoss= 1.1318\n",
      "\n",
      "********** Epoch   9 **********\n",
      "Train:\t\tAccuracy= 0.5218 \tLoss= 1.0091\n",
      "Validation:\tAccuracy= 0.4467 \tLoss= 1.1038\n",
      "\n",
      "********** Epoch  10 **********\n",
      "Train:\t\tAccuracy= 0.5301 \tLoss= 0.9819\n",
      "Validation:\tAccuracy= 0.4533 \tLoss= 1.0805\n",
      "\n",
      "********** Epoch  11 **********\n",
      "Train:\t\tAccuracy= 0.5401 \tLoss= 0.9586\n",
      "Validation:\tAccuracy= 0.4700 \tLoss= 1.0611\n",
      "\n",
      "********** Epoch  12 **********\n",
      "Train:\t\tAccuracy= 0.5510 \tLoss= 0.9386\n",
      "Validation:\tAccuracy= 0.4733 \tLoss= 1.0452\n",
      "\n",
      "********** Epoch  13 **********\n",
      "Train:\t\tAccuracy= 0.5601 \tLoss= 0.9211\n",
      "Validation:\tAccuracy= 0.4767 \tLoss= 1.0320\n",
      "\n",
      "********** Epoch  14 **********\n",
      "Train:\t\tAccuracy= 0.5701 \tLoss= 0.9057\n",
      "Validation:\tAccuracy= 0.4767 \tLoss= 1.0209\n",
      "\n",
      "********** Epoch  15 **********\n",
      "Train:\t\tAccuracy= 0.5743 \tLoss= 0.8920\n",
      "Validation:\tAccuracy= 0.4700 \tLoss= 1.0116\n",
      "\n",
      "********** Epoch  16 **********\n",
      "Train:\t\tAccuracy= 0.5851 \tLoss= 0.8797\n",
      "Validation:\tAccuracy= 0.4767 \tLoss= 1.0036\n",
      "\n",
      "********** Epoch  17 **********\n",
      "Train:\t\tAccuracy= 0.5917 \tLoss= 0.8686\n",
      "Validation:\tAccuracy= 0.4800 \tLoss= 0.9969\n",
      "\n",
      "********** Epoch  18 **********\n",
      "Train:\t\tAccuracy= 0.5967 \tLoss= 0.8583\n",
      "Validation:\tAccuracy= 0.4767 \tLoss= 0.9912\n",
      "\n",
      "********** Epoch  19 **********\n",
      "Train:\t\tAccuracy= 0.6026 \tLoss= 0.8489\n",
      "Validation:\tAccuracy= 0.4833 \tLoss= 0.9863\n",
      "\n",
      "********** Epoch  20 **********\n",
      "Train:\t\tAccuracy= 0.6092 \tLoss= 0.8400\n",
      "Validation:\tAccuracy= 0.4833 \tLoss= 0.9820\n",
      "\n",
      "********** Epoch  21 **********\n",
      "Train:\t\tAccuracy= 0.6150 \tLoss= 0.8319\n",
      "Validation:\tAccuracy= 0.4833 \tLoss= 0.9782\n",
      "\n",
      "********** Epoch  22 **********\n",
      "Train:\t\tAccuracy= 0.6184 \tLoss= 0.8242\n",
      "Validation:\tAccuracy= 0.4833 \tLoss= 0.9749\n",
      "\n",
      "********** Epoch  23 **********\n",
      "Train:\t\tAccuracy= 0.6209 \tLoss= 0.8168\n",
      "Validation:\tAccuracy= 0.4800 \tLoss= 0.9718\n",
      "\n",
      "********** Epoch  24 **********\n",
      "Train:\t\tAccuracy= 0.6234 \tLoss= 0.8098\n",
      "Validation:\tAccuracy= 0.4833 \tLoss= 0.9689\n",
      "\n",
      "********** Epoch  25 **********\n",
      "Train:\t\tAccuracy= 0.6309 \tLoss= 0.8031\n",
      "Validation:\tAccuracy= 0.4933 \tLoss= 0.9662\n",
      "\n",
      "********** Epoch  26 **********\n",
      "Train:\t\tAccuracy= 0.6384 \tLoss= 0.7968\n",
      "Validation:\tAccuracy= 0.4933 \tLoss= 0.9638\n",
      "\n",
      "********** Epoch  27 **********\n",
      "Train:\t\tAccuracy= 0.6409 \tLoss= 0.7907\n",
      "Validation:\tAccuracy= 0.4933 \tLoss= 0.9616\n",
      "\n",
      "********** Epoch  28 **********\n",
      "Train:\t\tAccuracy= 0.6442 \tLoss= 0.7848\n",
      "Validation:\tAccuracy= 0.5000 \tLoss= 0.9596\n",
      "\n",
      "********** Epoch  29 **********\n",
      "Train:\t\tAccuracy= 0.6475 \tLoss= 0.7791\n",
      "Validation:\tAccuracy= 0.5033 \tLoss= 0.9578\n",
      "\n",
      "********** Epoch  30 **********\n",
      "Train:\t\tAccuracy= 0.6483 \tLoss= 0.7736\n",
      "Validation:\tAccuracy= 0.5100 \tLoss= 0.9562\n",
      "\n",
      "********** Epoch  31 **********\n",
      "Train:\t\tAccuracy= 0.6500 \tLoss= 0.7682\n",
      "Validation:\tAccuracy= 0.5133 \tLoss= 0.9549\n",
      "\n",
      "********** Epoch  32 **********\n",
      "Train:\t\tAccuracy= 0.6534 \tLoss= 0.7630\n",
      "Validation:\tAccuracy= 0.5133 \tLoss= 0.9535\n",
      "\n",
      "********** Epoch  33 **********\n",
      "Train:\t\tAccuracy= 0.6558 \tLoss= 0.7580\n",
      "Validation:\tAccuracy= 0.5167 \tLoss= 0.9524\n",
      "\n",
      "********** Epoch  34 **********\n",
      "Train:\t\tAccuracy= 0.6617 \tLoss= 0.7531\n",
      "Validation:\tAccuracy= 0.5233 \tLoss= 0.9513\n",
      "\n",
      "********** Epoch  35 **********\n",
      "Train:\t\tAccuracy= 0.6692 \tLoss= 0.7483\n",
      "Validation:\tAccuracy= 0.5267 \tLoss= 0.9504\n",
      "\n",
      "********** Epoch  36 **********\n",
      "Train:\t\tAccuracy= 0.6733 \tLoss= 0.7437\n",
      "Validation:\tAccuracy= 0.5200 \tLoss= 0.9493\n",
      "\n",
      "********** Epoch  37 **********\n",
      "Train:\t\tAccuracy= 0.6775 \tLoss= 0.7392\n",
      "Validation:\tAccuracy= 0.5167 \tLoss= 0.9484\n",
      "\n",
      "********** Epoch  38 **********\n",
      "Train:\t\tAccuracy= 0.6800 \tLoss= 0.7347\n",
      "Validation:\tAccuracy= 0.5167 \tLoss= 0.9474\n",
      "\n",
      "********** Epoch  39 **********\n",
      "Train:\t\tAccuracy= 0.6825 \tLoss= 0.7303\n",
      "Validation:\tAccuracy= 0.5200 \tLoss= 0.9467\n",
      "\n",
      "********** Epoch  40 **********\n",
      "Train:\t\tAccuracy= 0.6875 \tLoss= 0.7260\n",
      "Validation:\tAccuracy= 0.5200 \tLoss= 0.9460\n",
      "\n",
      "********** Epoch  41 **********\n",
      "Train:\t\tAccuracy= 0.6892 \tLoss= 0.7218\n",
      "Validation:\tAccuracy= 0.5200 \tLoss= 0.9455\n",
      "\n",
      "********** Epoch  42 **********\n",
      "Train:\t\tAccuracy= 0.6908 \tLoss= 0.7176\n",
      "Validation:\tAccuracy= 0.5167 \tLoss= 0.9449\n",
      "\n",
      "********** Epoch  43 **********\n",
      "Train:\t\tAccuracy= 0.6933 \tLoss= 0.7136\n",
      "Validation:\tAccuracy= 0.5167 \tLoss= 0.9443\n",
      "\n",
      "********** Epoch  44 **********\n",
      "Train:\t\tAccuracy= 0.6967 \tLoss= 0.7095\n",
      "Validation:\tAccuracy= 0.5200 \tLoss= 0.9438\n",
      "\n",
      "********** Epoch  45 **********\n",
      "Train:\t\tAccuracy= 0.7000 \tLoss= 0.7056\n",
      "Validation:\tAccuracy= 0.5233 \tLoss= 0.9435\n",
      "\n",
      "********** Epoch  46 **********\n",
      "Train:\t\tAccuracy= 0.7033 \tLoss= 0.7017\n",
      "Validation:\tAccuracy= 0.5233 \tLoss= 0.9431\n",
      "\n",
      "********** Epoch  47 **********\n",
      "Train:\t\tAccuracy= 0.7042 \tLoss= 0.6978\n",
      "Validation:\tAccuracy= 0.5233 \tLoss= 0.9428\n",
      "\n",
      "********** Epoch  48 **********\n",
      "Train:\t\tAccuracy= 0.7059 \tLoss= 0.6940\n",
      "Validation:\tAccuracy= 0.5233 \tLoss= 0.9426\n",
      "\n",
      "********** Epoch  49 **********\n",
      "Train:\t\tAccuracy= 0.7059 \tLoss= 0.6902\n",
      "Validation:\tAccuracy= 0.5233 \tLoss= 0.9424\n",
      "Test:\tAccuracy= 0.6469 \tLoss= 1.2154\n"
     ]
    }
   ],
   "source": [
    "########## Training ##########\n",
    "batch_size = 64 # You are free to change it\n",
    "x_train_batches, y_train_batches = make_batches(images_train, labels_train_onehot, batch_size)\n",
    "epochs = 50  # You are free to change it\n",
    "N_Batches = len(x_train_batches)\n",
    "\n",
    "train_acc  = np.zeros(epochs)\n",
    "train_loss = np.zeros(epochs)\n",
    "val_acc  = np.zeros(epochs)\n",
    "val_loss = np.zeros(epochs)\n",
    "\n",
    "with tf.Session() as sess:\n",
    "    sess.run(tf.global_variables_initializer())\n",
    "    for epoch in range(epochs):\n",
    "        print()\n",
    "        print(\"*\" * 10, \"Epoch %3i\"%epoch, \"*\" * 10)\n",
    "\n",
    "        batch_acc = np.zeros(N_Batches)\n",
    "        batch_loss = np.zeros(N_Batches)\n",
    "        for n in range(N_Batches):\n",
    "            _, batch_acc[n], batch_loss[n] = sess.run([new_trainer, new_accuracy, new_cross_entropy],\n",
    "                                                      {x: x_train_batches[n], y_new: y_train_batches[n]})\n",
    "            #print(\"Batch %3d/%d: Acc:%0.4f , Loss:%0.4f\"%(n, N_Batches, batch_acc[n], batch_loss[n]))\n",
    "\n",
    "        train_acc[epoch] = np.mean(batch_acc)\n",
    "        train_loss[epoch] = np.mean(batch_loss)\n",
    "        print(\"Train:\\t\\tAccuracy= %0.4f \\tLoss= %0.4f\"%(train_acc[epoch], train_loss[epoch]))\n",
    "\n",
    "        ########## Validation ##########\n",
    "        val_acc[epoch], val_loss[epoch] = sess.run([new_accuracy, new_cross_entropy],\n",
    "                                                   {x: images_validation, y_new: labels_val_onehot})\n",
    "        print(\"Validation:\\tAccuracy= %0.4f \\tLoss= %0.4f\"%(val_acc[epoch], val_loss[epoch]))\n",
    "        \n",
    "############################################################\n",
    "#            TODO: Implement Test Phase                    #\n",
    "############################################################\n",
    "...\n",
    "print(\"Test:\\tAccuracy= %0.4f \\tLoss= %0.4f\"%(test_acc, test_loss))\n",
    "############################################################"
   ]
  },
  {
   "cell_type": "markdown",
   "metadata": {
    "colab_type": "text",
    "id": "2x1_NiP0OHY6"
   },
   "source": [
    "You can use tensorboard or the code provided in the next box to plot for loss and accuracy of training and validation data. You are expected to achieve at least 80% accuracy on the test data after training. Good Luck! ;)"
   ]
  },
  {
   "cell_type": "markdown",
   "metadata": {
    "colab_type": "text",
    "id": "2nYWYxYzOHY6"
   },
   "source": [
    "### Training Diagram"
   ]
  },
  {
   "cell_type": "code",
   "execution_count": 96,
   "metadata": {
    "colab": {
     "base_uri": "https://localhost:8080/",
     "height": 573
    },
    "colab_type": "code",
    "id": "Ga_DkmIxOHY7",
    "outputId": "6fb65422-dc23-4970-84a7-be46be801166"
   },
   "outputs": [
    {
     "data": {
      "image/png": "[encoded data removed]",
      "text/plain": [
       "<Figure size 432x288 with 1 Axes>"
      ]
     },
     "metadata": {
      "needs_background": "light",
      "tags": []
     },
     "output_type": "display_data"
    },
    {
     "data": {
      "image/png": "[encoded data removed]",
      "text/plain": [
       "<Figure size 432x288 with 1 Axes>"
      ]
     },
     "metadata": {
      "needs_background": "light",
      "tags": []
     },
     "output_type": "display_data"
    }
   ],
   "source": [
    "########## Plot metrics #########################\n",
    "fig = plt.figure()\n",
    "plt.plot(range(epochs), train_acc, label='Train')\n",
    "plt.plot(range(epochs), val_acc, label='Validation')\n",
    "plt.title(\"Training and Validation Accuracy\")\n",
    "plt.xlabel(\"epoch\")\n",
    "plt.ylabel(\"Accuracy\")\n",
    "plt.grid(True)\n",
    "plt.legend(loc=0)\n",
    "plt.show()\n",
    "\n",
    "fig = plt.figure()\n",
    "plt.plot(range(epochs), train_loss, label='Train')\n",
    "plt.plot(range(epochs), val_loss, label='Validation')\n",
    "plt.title(\"Training and Validation Loss\")\n",
    "plt.xlabel(\"epoch\")\n",
    "plt.ylabel(\"Cross entropy\")\n",
    "plt.grid(True)\n",
    "plt.legend(loc=0)\n",
    "plt.show()"
   ]
  }
 ],
 "metadata": {
  "accelerator": "GPU",
  "colab": {
   "name": "CNN_on_CIFAR.ipynb",
   "provenance": []
  },
  "kernelspec": {
   "display_name": "Python 3",
   "language": "python",
   "name": "python3"
  },
  "language_info": {
   "codemirror_mode": {
    "name": "ipython",
    "version": 3
   },
   "file_extension": ".py",
   "mimetype": "text/x-python",
   "name": "python",
   "nbconvert_exporter": "python",
   "pygments_lexer": "ipython3",
   "version": "3.8.2"
  }
 },
 "nbformat": 4,
 "nbformat_minor": 4
}
