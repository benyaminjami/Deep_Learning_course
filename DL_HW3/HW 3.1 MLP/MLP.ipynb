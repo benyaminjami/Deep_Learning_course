{
 "cells": [
  {
   "cell_type": "markdown",
   "metadata": {},
   "source": [
    "# CE-40959: Deep Learning"
   ]
  },
  {
   "cell_type": "code",
   "execution_count": 8,
   "metadata": {},
   "outputs": [
    {
     "name": "stdout",
     "output_type": "stream",
     "text": [
      "The autoreload extension is already loaded. To reload it, use:\n",
      "  %reload_ext autoreload\n"
     ]
    }
   ],
   "source": [
    "# importing modules\n",
    "from utils import load_data\n",
    "from models import Dense\n",
    "from train import train\n",
    "import tensorflow as tf\n",
    "import numpy as np\n",
    "import matplotlib.pyplot as plt\n",
    "\n",
    "\n",
    "%matplotlib inline\n",
    "plt.rcParams['figure.figsize'] = (10.0, 10.0) # set default size of plots\n",
    "plt.rcParams['image.interpolation'] = 'nearest'\n",
    "plt.rcParams['image.cmap'] = 'gray'\n",
    "\n",
    "# The following two lines let us reload external modules in the notebook\n",
    "%load_ext autoreload\n",
    "%autoreload 2"
   ]
  },
  {
   "cell_type": "markdown",
   "metadata": {},
   "source": [
    "# Data Description and Loading Data\n",
    "\n",
    "On this notebook, we are going to work on farsi OCR dataset. As its name implies, it is like famous **MNIST** dataset but it consists of images of handwritten digits in farsi. Each instance of this dataset is 32 * 32 gray-scale image. It is totally composed of 80000 instances. After loading this data, let's plot some images in order to see how they look like.\n",
    "\n",
    "Train, validation and test sets are loaded using a method in `utils.py`. Training set includes 0.7 of the whole dataset and test set just has 0.1 of it. Rest is assigned as validation set.\n",
    "\n",
    "**Note**: Images are flattened that's why their size is 1024 = 32 * 32."
   ]
  },
  {
   "cell_type": "code",
   "execution_count": 2,
   "metadata": {},
   "outputs": [
    {
     "name": "stdout",
     "output_type": "stream",
     "text": [
      "Loading the whole dataset...\n"
     ]
    }
   ],
   "source": [
    "x_train, y_train, x_validation, y_validation, x_test, y_test = load_data()"
   ]
  },
  {
   "cell_type": "code",
   "execution_count": 3,
   "metadata": {},
   "outputs": [
    {
     "data": {
      "image/png": "[encoded data removed]",
      "text/plain": [
       "<Figure size 432x288 with 100 Axes>"
      ]
     },
     "metadata": {
      "needs_background": "light"
     },
     "output_type": "display_data"
    }
   ],
   "source": [
    "num_sample = 10\n",
    "num_class = 10\n",
    "fig, ax = plt.subplots(nrows=num_sample, ncols=num_class)\n",
    "\n",
    "for i in range(num_class):\n",
    "    class_i_images = [x_train[k] for k in range(x_train.shape[0]) if y_train[k][i] == 1]\n",
    "    for j in range(num_sample):\n",
    "        ax[j, i].get_xaxis().set_visible(False)\n",
    "        ax[j, i].get_yaxis().set_visible(False)\n",
    "        ax[j, i].imshow(class_i_images[j].reshape((32, 32)))"
   ]
  },
  {
   "cell_type": "markdown",
   "metadata": {},
   "source": [
    "# Setting Flags\n",
    "Tensorflow has the option of setting of some flags which should be defined once and can be used in any file later.\n",
    "\n",
    "Here we define flags for\n",
    "1. `learning_rate`: Shows the initial learning rate in optimization process.\n",
    "\n",
    "2. `num_epoch`: The total number of epochs for training process.\n",
    "\n",
    "3. `weight_decay`: The coeffecient of L2 Loss term in total Loss function.\n",
    "\n",
    "4. `batch_size`: Size of each batch given to model."
   ]
  },
  {
   "cell_type": "code",
   "execution_count": 4,
   "metadata": {},
   "outputs": [],
   "source": [
    "flags = tf.app.flags\n",
    "FLAGS = flags.FLAGS\n",
    "flags.DEFINE_string('f', '', 'kernel')\n",
    "flags.DEFINE_float('learning_rate', 0.001, 'Initial learning rate.')\n",
    "flags.DEFINE_integer('num_epoch', 10, 'Number of epochs to train.')\n",
    "flags.DEFINE_float('weight_decay', 0., 'Weight for L2 loss')\n",
    "flags.DEFINE_integer('batch_size', 100, 'Size of batch')"
   ]
  },
  {
   "cell_type": "markdown",
   "metadata": {},
   "source": [
    "# Defining Initializers\n",
    "\n",
    "In the following cell we are importing some intializers which are defined in `utils.py`. Based on their explanation, you have to complete their code in `utils.py` and then import them."
   ]
  },
  {
   "cell_type": "code",
   "execution_count": 5,
   "metadata": {},
   "outputs": [],
   "source": [
    "from utils import glorot_initializer, zero_initializer, normal_initializer"
   ]
  },
  {
   "cell_type": "markdown",
   "metadata": {},
   "source": [
    "# Developing MLP Model\n",
    "\n",
    "`Dense` model is defined as a python class in `models.py`. Its constructor receives as input followings:\n",
    "\n",
    "1. num_hidden: Number of hidden units and output units.\n",
    "2. weight_initializer: Function used for initializing weights\n",
    "3. bias_initializer: Function used for initializing biases\n",
    "4. act: Activation function used for hidden layers\n",
    "5. logging: This is a boolean showing whether the model saves log of weights and biases for later visualization using tensorboard.\n",
    "6. stddev: Standard deviation in case of having normal initializer for weights of layers.\n",
    "\n",
    "You have to complete some parts of `__init__`, `_loss`, `_accuracy`, `_log_vars` and `_build` methods in this class.\n",
    "\n",
    "There is also another python file `layers.py` consists of the class `DenseLayer`. The arguments of its constructor are:\n",
    "1. input_dim: Dimension of input to layer\n",
    "2. output_dim: Dimension of output of layer\n",
    "3. act: Activation function of layer\n",
    "4. weight_initializer: Function used for initializing weights\n",
    "5. bias_initializer: Function used for initializing biases\n",
    "6. stddev: Standard deviation in case of having normal initializer for weights of the layer.\n",
    "\n",
    "Some part of `__call__` method of is left for you to complete.\n",
    "\n",
    "**Note**: It is necessary to complete aforementioned python files before moving forward to following cells."
   ]
  },
  {
   "cell_type": "markdown",
   "metadata": {},
   "source": [
    "# Experimenting on features of an MLP\n",
    "\n",
    "In the rest of this notebook, some experiments should be done on different setting like regularization, activation function, number of layers, etc combined with some visualizations."
   ]
  },
  {
   "cell_type": "markdown",
   "metadata": {},
   "source": [
    "## Different activation functions"
   ]
  },
  {
   "cell_type": "markdown",
   "metadata": {},
   "source": [
    "On the following cell we have defined a model with number of hidden units 200, 100, 50. Note that the outputs of last 10 units, after which a softmax function is applied, act as scores for 10 class of digits in data.\n",
    "\n",
    "You also have to use uniform glorot initializer and zero initializer for weights and biases, respectively.\n",
    "\n",
    "The last point here is that we are using **sigmoid** as activation function of all layers.\n",
    "\n",
    "Later, we will apply another one and observe its difference"
   ]
  },
  {
   "cell_type": "code",
   "execution_count": 6,
   "metadata": {},
   "outputs": [],
   "source": [
    "from models import Dense\n",
    "from layers import DenseLayer\n",
    "from train import train\n",
    "tf.reset_default_graph()\n",
    "model = Dense(num_hidden=[200, 100, 50, 10],\n",
    "              weight_initializer=glorot_initializer,\n",
    "              bias_initializer=zero_initializer,\n",
    "              act=tf.nn.sigmoid,\n",
    "              logging=True)"
   ]
  },
  {
   "cell_type": "markdown",
   "metadata": {},
   "source": [
    "After defining the model we need to trigger training process by using the code partly prepared in `train.py`. After filling required lines run the following cell to start training.\n",
    "In this file some writers are defined which are later used for plotting visualizations in tensorboard framework. Summary information defined as scalars (like loss) and histograms (like weights) are saved by this writers in `logs` folder near existing files. More specifically, for each model another folder whose name came from `log_file` variable is created.\n",
    "\n",
    "Furthermore, when you define a session using `with`, the session is just restricted to its following context and can not be used in outer scope."
   ]
  },
  {
   "cell_type": "code",
   "execution_count": 10,
   "metadata": {},
   "outputs": [
    {
     "name": "stdout",
     "output_type": "stream",
     "text": [
      "Epoch 1: train loss=2.345, train acc=0.099\n",
      "\n",
      "Epoch 2: train loss=2.310, train acc=0.100\n",
      "\n",
      "Epoch 3: train loss=2.302, train acc=0.100\n",
      "\n",
      "Epoch 4: train loss=2.300, train acc=0.122\n",
      "\n",
      "Epoch 5: train loss=2.299, train acc=0.151\n",
      "\n",
      "Epoch 6: train loss=2.298, train acc=0.175\n",
      "\n",
      "Epoch 7: train loss=2.297, train acc=0.194\n",
      "\n",
      "Epoch 8: train loss=2.296, train acc=0.212\n",
      "\n",
      "Epoch 9: train loss=2.295, train acc=0.234\n",
      "\n",
      "Epoch 10: train loss=2.294, train acc=0.260\n",
      "\n",
      "Test: average loss=2.294, average accuracy=0.257\n",
      "-------\n"
     ]
    }
   ],
   "source": [
    "with tf.Session() as sess:\n",
    "    log_file = str(model.act.__name__)\n",
    "    train(x_train, y_train, x_validation, y_validation, x_test, y_test, model, sess, log_file)"
   ]
  },
  {
   "cell_type": "markdown",
   "metadata": {},
   "source": [
    "**Important Note:** In order to run different computation graphs in the same process, it is compulsary to reset the default graph to a new one which is defined later. To do so, you have to use method `tf.rest_default_graph()` as in the following cell. Otherwise, you will end up with lots of nodes in the default graph of computation."
   ]
  },
  {
   "cell_type": "code",
   "execution_count": 10,
   "metadata": {},
   "outputs": [],
   "source": [
    "tf.reset_default_graph()"
   ]
  },
  {
   "cell_type": "markdown",
   "metadata": {},
   "source": [
    "Let's maintain the same settings but change activation function to **tanh** and run the whole process again."
   ]
  },
  {
   "cell_type": "code",
   "execution_count": 18,
   "metadata": {},
   "outputs": [
    {
     "name": "stdout",
     "output_type": "stream",
     "text": [
      "Epoch 1: train loss=1.143, train acc=0.780\n",
      "\n",
      "Epoch 2: train loss=0.805, train acc=0.839\n",
      "\n",
      "Epoch 3: train loss=0.650, train acc=0.860\n",
      "\n",
      "Epoch 4: train loss=0.559, train acc=0.874\n",
      "\n",
      "Epoch 5: train loss=0.497, train acc=0.884\n",
      "\n",
      "Epoch 6: train loss=0.453, train acc=0.892\n",
      "\n",
      "Epoch 7: train loss=0.419, train acc=0.898\n",
      "\n",
      "Epoch 8: train loss=0.392, train acc=0.903\n",
      "\n",
      "Epoch 9: train loss=0.370, train acc=0.907\n",
      "\n",
      "Epoch 10: train loss=0.352, train acc=0.911\n",
      "\n",
      "Test: average loss=0.353, average accuracy=0.910\n",
      "-------\n"
     ]
    }
   ],
   "source": [
    "model = Dense(num_hidden=[200, 100, 50, 10],\n",
    "              weight_initializer=glorot_initializer,\n",
    "              bias_initializer=zero_initializer,\n",
    "              act=tf.nn.tanh,\n",
    "              logging=True)\n",
    "with tf.Session() as sess:\n",
    "    log_file = str(model.act.__name__)\n",
    "    train(x_train, y_train, x_validation, y_validation, x_test, y_test, model, sess, log_file)\n",
    "tf.reset_default_graph()"
   ]
  },
  {
   "cell_type": "markdown",
   "metadata": {},
   "source": [
    "---\n",
    "\n",
    "# Question 1\n",
    "Compare `tanh` and `sigmoid` based on above results. Explain your observation from the visualizations produced by tensorboard.\n",
    "\n",
    "---"
   ]
  },
  {
   "cell_type": "code",
   "execution_count": 9,
   "metadata": {},
   "outputs": [
    {
     "name": "stdout",
     "output_type": "stream",
     "text": [
      "The tensorboard module is not an IPython extension.\n"
     ]
    },
    {
     "name": "stderr",
     "output_type": "stream",
     "text": [
      "UsageError: Line magic function `%tensorboard` not found.\n"
     ]
    }
   ],
   "source": [
    "%load_ext tensorboard\n",
    "%tensorboard --logdir logs/"
   ]
  },
  {
   "cell_type": "markdown",
   "metadata": {},
   "source": [
    "## Different Initializations\n",
    "\n",
    "Next we want to see the effect of aforementioned initializers."
   ]
  },
  {
   "cell_type": "markdown",
   "metadata": {},
   "source": [
    "At first we use zero initializer both for biases and weights. By doing so, specially for weight initialization, the network will get in trouble with breaking the symmetry."
   ]
  },
  {
   "cell_type": "code",
   "execution_count": 20,
   "metadata": {},
   "outputs": [
    {
     "name": "stdout",
     "output_type": "stream",
     "text": [
      "Epoch 1: train loss=2.303, train acc=0.101\n",
      "\n",
      "Epoch 2: train loss=2.303, train acc=0.101\n",
      "\n",
      "Epoch 3: train loss=2.303, train acc=0.101\n",
      "\n",
      "Epoch 4: train loss=2.303, train acc=0.101\n",
      "\n",
      "Epoch 5: train loss=2.303, train acc=0.101\n",
      "\n",
      "Epoch 6: train loss=2.303, train acc=0.101\n",
      "\n",
      "Epoch 7: train loss=2.303, train acc=0.101\n",
      "\n",
      "Epoch 8: train loss=2.303, train acc=0.101\n",
      "\n",
      "Epoch 9: train loss=2.303, train acc=0.101\n",
      "\n",
      "Epoch 10: train loss=2.303, train acc=0.101\n",
      "\n",
      "Test: average loss=2.303, average accuracy=0.098\n",
      "-------\n"
     ]
    }
   ],
   "source": [
    "model = Dense(num_hidden=[200, 50, 10],\n",
    "              weight_initializer=zero_initializer,\n",
    "              bias_initializer=zero_initializer,\n",
    "              act=tf.nn.tanh,\n",
    "              logging=True)\n",
    "\n",
    "with tf.Session() as sess:\n",
    "    log_file = str(model.act.__name__) + \"_\" + str(model.weight_initializer.__name__)\n",
    "    train(x_train, y_train, x_validation, y_validation, x_test, y_test, model, sess, log_file)\n",
    "tf.reset_default_graph()    "
   ]
  },
  {
   "cell_type": "markdown",
   "metadata": {},
   "source": [
    "***\n",
    "\n",
    "# Question 2\n",
    "\n",
    "Use tensorboard visualizations of weights and learning curves (like loss and accuracy) as well to discuss about the issue raised by using zeros initializer for weights.\n",
    "\n",
    "---"
   ]
  },
  {
   "cell_type": "markdown",
   "metadata": {},
   "source": [
    "Let's see what is the impact of using normal initializer for weights.\n",
    "\n",
    "Do not forget to send in standard deviation of gaussain distribution used for sampling weights as an argument to model constructor for all next experiments."
   ]
  },
  {
   "cell_type": "code",
   "execution_count": 21,
   "metadata": {},
   "outputs": [
    {
     "name": "stdout",
     "output_type": "stream",
     "text": [
      "Normal Initializer with stddev: 10\n",
      "Epoch 1: train loss=94.240, train acc=0.105\n",
      "\n",
      "Epoch 2: train loss=92.059, train acc=0.109\n",
      "\n",
      "Epoch 3: train loss=90.042, train acc=0.111\n",
      "\n",
      "Epoch 4: train loss=88.182, train acc=0.114\n",
      "\n",
      "Epoch 5: train loss=86.526, train acc=0.117\n",
      "\n",
      "Epoch 6: train loss=85.095, train acc=0.120\n",
      "\n",
      "Epoch 7: train loss=83.658, train acc=0.123\n",
      "\n",
      "Epoch 8: train loss=82.328, train acc=0.127\n",
      "\n",
      "Epoch 9: train loss=81.112, train acc=0.129\n",
      "\n",
      "Epoch 10: train loss=79.893, train acc=0.132\n",
      "\n",
      "Test: average loss=82.379, average accuracy=0.125\n",
      "-------\n",
      "Normal Initializer with stddev: 1\n",
      "Epoch 1: train loss=7.219, train acc=0.154\n",
      "\n",
      "Epoch 2: train loss=5.981, train acc=0.201\n",
      "\n",
      "Epoch 3: train loss=5.150, train acc=0.248\n",
      "\n",
      "Epoch 4: train loss=4.557, train acc=0.291\n",
      "\n",
      "Epoch 5: train loss=4.108, train acc=0.331\n",
      "\n",
      "Epoch 6: train loss=3.757, train acc=0.365\n",
      "\n",
      "Epoch 7: train loss=3.471, train acc=0.395\n",
      "\n",
      "Epoch 8: train loss=3.230, train acc=0.421\n",
      "\n",
      "Epoch 9: train loss=3.024, train acc=0.445\n",
      "\n",
      "Epoch 10: train loss=2.846, train acc=0.466\n",
      "\n",
      "Test: average loss=2.922, average accuracy=0.464\n",
      "-------\n",
      "Normal Initializer with stddev: 0.1\n",
      "Epoch 1: train loss=1.910, train acc=0.471\n",
      "\n",
      "Epoch 2: train loss=1.540, train acc=0.695\n",
      "\n",
      "Epoch 3: train loss=1.263, train acc=0.771\n",
      "\n",
      "Epoch 4: train loss=1.061, train acc=0.808\n",
      "\n",
      "Epoch 5: train loss=0.913, train acc=0.828\n",
      "\n",
      "Epoch 6: train loss=0.804, train acc=0.841\n",
      "\n",
      "Epoch 7: train loss=0.720, train acc=0.851\n",
      "\n",
      "Epoch 8: train loss=0.655, train acc=0.858\n",
      "\n",
      "Epoch 9: train loss=0.602, train acc=0.865\n",
      "\n",
      "Epoch 10: train loss=0.560, train acc=0.871\n",
      "\n",
      "Test: average loss=0.557, average accuracy=0.871\n",
      "-------\n"
     ]
    }
   ],
   "source": [
    "stddev_list = [10, 1, 0.1]\n",
    "for stddev in stddev_list:\n",
    "    print('Normal Initializer with stddev: {}'.format(stddev))\n",
    "    model = Dense(num_hidden=[200, 50, 10],\n",
    "                  weight_initializer=normal_initializer,\n",
    "                  bias_initializer=zero_initializer,\n",
    "                  act=tf.nn.tanh,\n",
    "                  logging=True,\n",
    "                  stddev=stddev)\n",
    "\n",
    "    with tf.Session() as sess:\n",
    "        log_file = str(model.act.__name__) + \"_\" + str(model.weight_initializer.__name__) + \"_\" + str(stddev)\n",
    "        train(x_train, y_train, x_validation, y_validation, x_test, y_test, model, sess, log_file)\n",
    "    tf.reset_default_graph()"
   ]
  },
  {
   "cell_type": "markdown",
   "metadata": {},
   "source": [
    "---\n",
    "\n",
    "# Question 3\n",
    "\n",
    "Use tensorboard visualizations of weights and learning curves (like loss and accuracy) as well to describe differences through training process caused by using different standard deviations.\n",
    "\n",
    "---"
   ]
  },
  {
   "cell_type": "markdown",
   "metadata": {},
   "source": [
    "## Different Architectures (layers and units)\n",
    "\n",
    "Next, we will cast light on the importance of architecture of neural networks (more specifically number of layers and units)\n",
    "\n",
    "Here we will examine two architectures. Comparing with above setting, we will increase the number of epochs to 15 and change learning rate to 0.01. What makes difference between two architectures is the number of layers and units.\n",
    "\n",
    "In the first one we have 3 hidden layers with 500, 100, 50 units, respectively. This model imposes high computational cost. On the other hand, the second network has one less hidden layer but same number of units in the rest of layers. Totally it has less complexity in terms of number of parameters compared with the first network."
   ]
  },
  {
   "cell_type": "code",
   "execution_count": 23,
   "metadata": {},
   "outputs": [
    {
     "name": "stdout",
     "output_type": "stream",
     "text": [
      "Number of hidden units:  [500, 100, 50, 10]\n",
      "Epoch 1: train loss=3.423, train acc=0.396\n",
      "\n",
      "Epoch 2: train loss=2.176, train acc=0.545\n",
      "\n",
      "Epoch 3: train loss=1.652, train acc=0.623\n",
      "\n",
      "Epoch 4: train loss=1.342, train acc=0.674\n",
      "\n",
      "Epoch 5: train loss=1.145, train acc=0.710\n",
      "\n",
      "Epoch 6: train loss=1.016, train acc=0.735\n",
      "\n",
      "Epoch 7: train loss=0.919, train acc=0.756\n",
      "\n",
      "Epoch 8: train loss=0.846, train acc=0.770\n",
      "\n",
      "Epoch 9: train loss=0.787, train acc=0.784\n",
      "\n",
      "Epoch 10: train loss=0.740, train acc=0.795\n",
      "\n",
      "Epoch 11: train loss=0.700, train acc=0.805\n",
      "\n",
      "Epoch 12: train loss=0.666, train acc=0.814\n",
      "\n",
      "Epoch 13: train loss=0.636, train acc=0.821\n",
      "\n",
      "Epoch 14: train loss=0.610, train acc=0.828\n",
      "\n",
      "Epoch 15: train loss=0.586, train acc=0.834\n",
      "\n",
      "Test: average loss=1.175, average accuracy=0.701\n",
      "-------\n",
      "Number of hidden units:  [100, 50, 10]\n",
      "Epoch 1: train loss=2.980, train acc=0.456\n",
      "\n",
      "Epoch 2: train loss=1.973, train acc=0.589\n",
      "\n",
      "Epoch 3: train loss=1.559, train acc=0.654\n",
      "\n",
      "Epoch 4: train loss=1.321, train acc=0.693\n",
      "\n",
      "Epoch 5: train loss=1.163, train acc=0.720\n",
      "\n",
      "Epoch 6: train loss=1.050, train acc=0.739\n",
      "\n",
      "Epoch 7: train loss=0.963, train acc=0.754\n",
      "\n",
      "Epoch 8: train loss=0.894, train acc=0.767\n",
      "\n",
      "Epoch 9: train loss=0.837, train acc=0.777\n",
      "\n",
      "Epoch 10: train loss=0.789, train acc=0.786\n",
      "\n",
      "Epoch 11: train loss=0.748, train acc=0.794\n",
      "\n",
      "Epoch 12: train loss=0.712, train acc=0.801\n",
      "\n",
      "Epoch 13: train loss=0.681, train acc=0.807\n",
      "\n",
      "Epoch 14: train loss=0.654, train acc=0.813\n",
      "\n",
      "Epoch 15: train loss=0.629, train acc=0.818\n",
      "\n",
      "Test: average loss=0.772, average accuracy=0.787\n",
      "-------\n"
     ]
    }
   ],
   "source": [
    "FLAGS.num_epoch = 15\n",
    "FLAGS.learning_rate = 0.01\n",
    "num_hidden_list = [[500, 100, 50, 10], [100, 50, 10]]\n",
    "stddev = 1\n",
    "for num_hidden in num_hidden_list:\n",
    "    print('Number of hidden units: ', num_hidden)\n",
    "    model = Dense(num_hidden=num_hidden,\n",
    "                  weight_initializer=normal_initializer,\n",
    "                  bias_initializer=zero_initializer,\n",
    "                  act=tf.nn.tanh,\n",
    "                  logging=True,\n",
    "                  stddev=stddev)\n",
    "    with tf.Session() as sess:\n",
    "        log_file = str(model.act.__name__) + \"_\" + str(model.num_hidden)\n",
    "        train(x_train, y_train, x_validation, y_validation, x_test, y_test, model, sess, log_file)\n",
    "    tf.reset_default_graph()"
   ]
  },
  {
   "cell_type": "markdown",
   "metadata": {},
   "source": [
    "---\n",
    "# Question 4\n",
    "By using tensorboard visualiztions justify the different outcomes of training the above two neural network architectures.\n",
    "\n",
    "---"
   ]
  },
  {
   "cell_type": "markdown",
   "metadata": {},
   "source": [
    "## Regularization\n",
    "\n",
    "Another important point to consider is applying regularization and being aware of its impact on training and generalization. Its most important rule is to prevent our learning process from overfitting (you may have encountered this phenomenon above!)\n",
    "\n",
    "In first experiment L2 regularization technique is not applied. However, in rest of them, it is used for penalizing two sets of weights:\n",
    "\n",
    "1. Weights between input and first hidden layer.\n",
    "2. Weights between first and second hidden layer."
   ]
  },
  {
   "cell_type": "code",
   "execution_count": 25,
   "metadata": {},
   "outputs": [
    {
     "name": "stdout",
     "output_type": "stream",
     "text": [
      "Weight decay of: 0.0\n",
      "Epoch 1: train loss=3.101, train acc=0.416\n",
      "\n",
      "Epoch 2: train loss=1.994, train acc=0.555\n",
      "\n",
      "Epoch 3: train loss=1.503, train acc=0.634\n",
      "\n",
      "Epoch 4: train loss=1.222, train acc=0.688\n",
      "\n",
      "Epoch 5: train loss=1.047, train acc=0.721\n",
      "\n",
      "Epoch 6: train loss=0.932, train acc=0.747\n",
      "\n",
      "Epoch 7: train loss=0.847, train acc=0.766\n",
      "\n",
      "Epoch 8: train loss=0.779, train acc=0.782\n",
      "\n",
      "Epoch 9: train loss=0.727, train acc=0.795\n",
      "\n",
      "Epoch 10: train loss=0.683, train acc=0.806\n",
      "\n",
      "Epoch 11: train loss=0.645, train acc=0.816\n",
      "\n",
      "Epoch 12: train loss=0.614, train acc=0.824\n",
      "\n",
      "Epoch 13: train loss=0.587, train acc=0.831\n",
      "\n",
      "Epoch 14: train loss=0.563, train acc=0.838\n",
      "\n",
      "Epoch 15: train loss=0.542, train acc=0.843\n",
      "\n",
      "Test: average loss=1.145, average accuracy=0.705\n",
      "-------\n",
      "Weight decay of: 0.0001\n",
      "Epoch 1: train loss=25.068, train acc=0.393\n",
      "\n",
      "Epoch 2: train loss=23.847, train acc=0.538\n",
      "\n",
      "Epoch 3: train loss=23.325, train acc=0.615\n",
      "\n",
      "Epoch 4: train loss=23.010, train acc=0.667\n",
      "\n",
      "Epoch 5: train loss=22.805, train acc=0.703\n",
      "\n",
      "Epoch 6: train loss=22.657, train acc=0.728\n",
      "\n",
      "Epoch 7: train loss=22.543, train acc=0.749\n",
      "\n",
      "Epoch 8: train loss=22.448, train acc=0.766\n",
      "\n",
      "Epoch 9: train loss=22.369, train acc=0.780\n",
      "\n",
      "Epoch 10: train loss=22.298, train acc=0.793\n",
      "\n",
      "Epoch 11: train loss=22.236, train acc=0.804\n",
      "\n",
      "Epoch 12: train loss=22.180, train acc=0.812\n",
      "\n",
      "Epoch 13: train loss=22.127, train acc=0.819\n",
      "\n",
      "Epoch 14: train loss=22.078, train acc=0.826\n",
      "\n",
      "Epoch 15: train loss=22.033, train acc=0.832\n",
      "\n",
      "Test: average loss=22.637, average accuracy=0.692\n",
      "-------\n",
      "Weight decay of: 0.001\n",
      "Epoch 1: train loss=218.429, train acc=0.393\n",
      "\n",
      "Epoch 2: train loss=214.834, train acc=0.543\n",
      "\n",
      "Epoch 3: train loss=211.937, train acc=0.623\n",
      "\n",
      "Epoch 4: train loss=209.296, train acc=0.672\n",
      "\n",
      "Epoch 5: train loss=206.790, train acc=0.708\n",
      "\n",
      "Epoch 6: train loss=204.374, train acc=0.733\n",
      "\n",
      "Epoch 7: train loss=202.015, train acc=0.754\n",
      "\n",
      "Epoch 8: train loss=199.703, train acc=0.770\n",
      "\n",
      "Epoch 9: train loss=197.432, train acc=0.783\n",
      "\n",
      "Epoch 10: train loss=195.195, train acc=0.794\n",
      "\n",
      "Epoch 11: train loss=192.991, train acc=0.804\n",
      "\n",
      "Epoch 12: train loss=190.816, train acc=0.814\n",
      "\n",
      "Epoch 13: train loss=188.670, train acc=0.821\n",
      "\n",
      "Epoch 14: train loss=186.551, train acc=0.828\n",
      "\n",
      "Epoch 15: train loss=184.459, train acc=0.835\n",
      "\n",
      "Test: average loss=185.052, average accuracy=0.703\n",
      "-------\n",
      "Weight decay of: 0.01\n",
      "Epoch 1: train loss=1944.915, train acc=0.382\n",
      "\n",
      "Epoch 2: train loss=1737.933, train acc=0.529\n",
      "\n",
      "Epoch 3: train loss=1553.465, train acc=0.619\n",
      "\n",
      "Epoch 4: train loss=1388.724, train acc=0.678\n",
      "\n",
      "Epoch 5: train loss=1241.534, train acc=0.715\n",
      "\n",
      "Epoch 6: train loss=1109.988, train acc=0.742\n",
      "\n",
      "Epoch 7: train loss=992.403, train acc=0.761\n",
      "\n",
      "Epoch 8: train loss=887.288, train acc=0.777\n",
      "\n",
      "Epoch 9: train loss=793.314, train acc=0.791\n",
      "\n",
      "Epoch 10: train loss=709.302, train acc=0.803\n",
      "\n",
      "Epoch 11: train loss=634.195, train acc=0.814\n",
      "\n",
      "Epoch 12: train loss=567.045, train acc=0.825\n",
      "\n",
      "Epoch 13: train loss=507.008, train acc=0.836\n",
      "\n",
      "Epoch 14: train loss=453.331, train acc=0.845\n",
      "\n",
      "Epoch 15: train loss=405.340, train acc=0.855\n",
      "\n",
      "Test: average loss=405.706, average accuracy=0.777\n",
      "-------\n",
      "Weight decay of: 0.1\n",
      "Epoch 1: train loss=7081.688, train acc=0.502\n",
      "\n",
      "Epoch 2: train loss=2309.667, train acc=0.737\n",
      "\n",
      "Epoch 3: train loss=753.385, train acc=0.860\n",
      "\n",
      "Epoch 4: train loss=245.798, train acc=0.924\n",
      "\n",
      "Epoch 5: train loss=80.282, train acc=0.950\n",
      "\n",
      "Epoch 6: train loss=26.297, train acc=0.964\n",
      "\n",
      "Epoch 7: train loss=8.675, train acc=0.971\n",
      "\n",
      "Epoch 8: train loss=2.953, train acc=0.972\n",
      "\n",
      "Epoch 9: train loss=1.111, train acc=0.970\n",
      "\n",
      "Epoch 10: train loss=0.514, train acc=0.968\n",
      "\n",
      "Epoch 11: train loss=0.318, train acc=0.967\n",
      "\n",
      "Epoch 12: train loss=0.251, train acc=0.968\n",
      "\n",
      "Epoch 13: train loss=0.228, train acc=0.968\n",
      "\n",
      "Epoch 14: train loss=0.220, train acc=0.968\n",
      "\n",
      "Epoch 15: train loss=0.216, train acc=0.968\n",
      "\n",
      "Test: average loss=0.229, average accuracy=0.964\n",
      "-------\n"
     ]
    }
   ],
   "source": [
    "weight_decay_list = [0., 1e-4, 1e-3, 1e-2, 1e-1]\n",
    "for weight_decay in weight_decay_list:\n",
    "    print('Weight decay of: {}'.format(weight_decay))\n",
    "    FLAGS.weight_decay = weight_decay \n",
    "    model = Dense(num_hidden=[500, 100, 50, 10],\n",
    "                  weight_initializer=normal_initializer,\n",
    "                  bias_initializer=zero_initializer,\n",
    "                  act=tf.nn.tanh,\n",
    "                  logging=True,\n",
    "                  stddev=1)\n",
    "    with tf.Session() as sess:\n",
    "        log_file = str(model.act.__name__) + \"_\" + str(FLAGS.weight_decay)\n",
    "        train(x_train, y_train, x_validation, y_validation, x_test, y_test, model, sess, log_file)\n",
    "    tf.reset_default_graph()"
   ]
  },
  {
   "cell_type": "markdown",
   "metadata": {},
   "source": [
    "---\n",
    "# Question 5\n",
    "By using visualiztion of learning curves (specially loss curve) try to explain the impact that L2 regularization had on training process.\n",
    "\n",
    "---"
   ]
  },
  {
   "cell_type": "markdown",
   "metadata": {},
   "source": [
    "### **Note**: \n",
    "So far, some questions were placed between cells of codes and descriptions. \n",
    "\n",
    "In addition to **completing the code files**, please send a **report** including your answer to these questions as well. Do not forget to put the diagrams and visualizations needed in each part."
   ]
  }
 ],
 "metadata": {
  "kernelspec": {
   "display_name": "Python 3",
   "language": "python",
   "name": "python3"
  },
  "language_info": {
   "codemirror_mode": {
    "name": "ipython",
    "version": 3
   },
   "file_extension": ".py",
   "mimetype": "text/x-python",
   "name": "python",
   "nbconvert_exporter": "python",
   "pygments_lexer": "ipython3",
   "version": "3.8.2"
  }
 },
 "nbformat": 4,
 "nbformat_minor": 4
}
