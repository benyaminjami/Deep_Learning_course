{
 "cells": [
  {
   "cell_type": "markdown",
   "metadata": {},
   "source": [
    "#  CE-40959: Deep Learning"
   ]
  },
  {
   "cell_type": "markdown",
   "metadata": {},
   "source": [
    "# Numpy Tutorial"
   ]
  },
  {
   "cell_type": "markdown",
   "metadata": {},
   "source": [
    "## Outline"
   ]
  },
  {
   "cell_type": "markdown",
   "metadata": {},
   "source": [
    "1. Array\n",
    "2. Array munipulation\n",
    "3. Mathematical functions\n",
    "4. Matrix compution\n",
    "5. Saving and loading Numpy arrays"
   ]
  },
  {
   "cell_type": "code",
   "execution_count": 1,
   "metadata": {},
   "outputs": [],
   "source": [
    "# importing numpy module into our notebook\n",
    "import numpy as np"
   ]
  },
  {
   "cell_type": "markdown",
   "metadata": {},
   "source": [
    "## 1. Array"
   ]
  },
  {
   "cell_type": "code",
   "execution_count": 2,
   "metadata": {},
   "outputs": [
    {
     "name": "stdout",
     "output_type": "stream",
     "text": [
      "<class 'numpy.ndarray'>\n",
      "(6,)\n",
      "1\n",
      "int32\n",
      "6\n"
     ]
    }
   ],
   "source": [
    "a = np.array([1,2,3,4,5,6], dtype=np.int32)\n",
    "\n",
    "print(type(a))\n",
    "print(a.shape)   # tuple, array shape\n",
    "print(a.ndim)    # int, number of array dimension\n",
    "print(a.dtype)   # Data-type of the array’s elements\n",
    "print(a.size)    # Number of elements in the array"
   ]
  },
  {
   "cell_type": "markdown",
   "metadata": {},
   "source": [
    "### 1.1 - Multi-Dimensional Arrays"
   ]
  },
  {
   "cell_type": "code",
   "execution_count": 3,
   "metadata": {},
   "outputs": [
    {
     "name": "stdout",
     "output_type": "stream",
     "text": [
      "0.9769036540112375\n",
      "0.9769036540112375\n",
      "(2, 5, 9, 12)\n",
      "2\n",
      "2 5 9 12\n",
      "1080\n"
     ]
    }
   ],
   "source": [
    "a = np.random.rand(2,5,9,12)   # creates a 4d-array\n",
    "\n",
    "# indexing 1 element\n",
    "print(a[0,1,2,5]) \n",
    "print(a[0][1][2][5])\n",
    "\n",
    "# shape and size\n",
    "print(a.shape)\n",
    "print(len(a))\n",
    "print(a.shape[0], a.shape[1], a.shape[2], a.shape[3])\n",
    "print(a.size)   "
   ]
  },
  {
   "cell_type": "markdown",
   "metadata": {},
   "source": [
    "Other methods of array creation:"
   ]
  },
  {
   "cell_type": "markdown",
   "metadata": {},
   "source": [
    "- `np.ones`\n",
    "  \n",
    "- `np.zeros`\n",
    "  \n",
    "- `np.full`\n",
    "  \n",
    "- `np.eye`\n",
    "  \n",
    "- `np.arange`\n",
    "  \n",
    "- `np.empty`\n",
    "  \n",
    "- `np.random.randint`, `np.random.rand`, `np.random.rand`, ..."
   ]
  },
  {
   "cell_type": "code",
   "execution_count": 4,
   "metadata": {},
   "outputs": [
    {
     "name": "stdout",
     "output_type": "stream",
     "text": [
      "(2, 3, 4) 0.0\n",
      "\n",
      " (5, 3, 7, 2) 1.0\n",
      "\n",
      " (2, 7) 12\n",
      "\n",
      " [[1. 0. 0. 0.]\n",
      " [0. 1. 0. 0.]\n",
      " [0. 0. 1. 0.]\n",
      " [0. 0. 0. 1.]]\n",
      "\n",
      " [ 1  4  7 10 13 16 19]\n",
      "\n",
      " [[[2.33665620e-316 2.33444279e-316]\n",
      "  [6.57148830e-299 1.60126796e-255]]\n",
      "\n",
      " [[1.00068322e+174 7.63813932e-270]\n",
      "  [5.65631004e+303 2.29111235e+251]]]\n"
     ]
    }
   ],
   "source": [
    "a = np.zeros([2,3,4])\n",
    "print(a.shape , a[0,0,0])\n",
    "\n",
    "b = np.ones([5,3,7,2])\n",
    "print('\\n', b.shape , b[1,2,2,0])\n",
    "\n",
    "c = np.full((2,7), 12)  # creates an array with shape (2, 7) and fills it with 12\n",
    "print('\\n', c.shape , c[0,0])\n",
    "\n",
    "d = np.eye(4)\n",
    "print('\\n', d)\n",
    "\n",
    "e = np.arange(1, 20, 3)\n",
    "print('\\n', e)\n",
    "\n",
    "f = np.empty((2, 2, 2))  # with randomly initialized entries\n",
    "print('\\n', f)"
   ]
  },
  {
   "cell_type": "code",
   "execution_count": 5,
   "metadata": {},
   "outputs": [
    {
     "name": "stdout",
     "output_type": "stream",
     "text": [
      "(4, 6)\n",
      "(4, 6)\n"
     ]
    }
   ],
   "source": [
    "# Initializing arrays like another array\n",
    "a = np.random.rand(4, 6)\n",
    "b = np.zeros_like(a)\n",
    "print(b.shape)\n",
    "\n",
    "c = np.empty_like(a)\n",
    "print(c.shape)"
   ]
  },
  {
   "cell_type": "code",
   "execution_count": 6,
   "metadata": {},
   "outputs": [
    {
     "name": "stdout",
     "output_type": "stream",
     "text": [
      "[[7. 7. 7. 7.]\n",
      " [7. 7. 7. 7.]]\n"
     ]
    }
   ],
   "source": [
    "# filling an array with a specific value\n",
    "a = np.empty((2, 4))\n",
    "a.fill(7)\n",
    "print(a)"
   ]
  },
  {
   "cell_type": "markdown",
   "metadata": {},
   "source": [
    "### 1.2 - Array indexing"
   ]
  },
  {
   "cell_type": "code",
   "execution_count": 7,
   "metadata": {},
   "outputs": [
    {
     "name": "stdout",
     "output_type": "stream",
     "text": [
      "b:  [[[[0.30256942 0.05229005 0.38614748 0.75853977 0.03650009]\n",
      "   [0.42848595 0.94977106 0.49748667 0.95214812 0.39835778]\n",
      "   [0.51621256 0.85689435 0.93663902 0.44207387 0.36526788]]\n",
      "\n",
      "  [[0.88307568 0.04371978 0.47481882 0.55714876 0.27904449]\n",
      "   [0.94589868 0.7464737  0.10142841 0.91961247 0.76067102]\n",
      "   [0.1918671  0.51704947 0.87263048 0.5185719  0.38641256]]\n",
      "\n",
      "  [[0.96381828 0.50869932 0.02029039 0.99878281 0.65108041]\n",
      "   [0.0959459  0.16205394 0.60052259 0.9609152  0.98950946]\n",
      "   [0.06369711 0.76129398 0.08799424 0.86540315 0.97237176]]]]\n",
      "b.shape:  (1, 3, 3, 5)\n",
      "(4, 6, 8)\n"
     ]
    }
   ],
   "source": [
    "a = np.random.rand(3,4,6,8)  # creates an array filled with values between (0, 1) coming from a uniform distribution\n",
    "\n",
    "b = a[1:2, :3, 2:5, 1:6]\n",
    "print('b: ', b)\n",
    "print('b.shape: ', b.shape)\n",
    "\n",
    "c = a[1]  # same as a[1,:,:,:]\n",
    "print(c.shape)  "
   ]
  },
  {
   "cell_type": "code",
   "execution_count": 8,
   "metadata": {},
   "outputs": [
    {
     "name": "stdout",
     "output_type": "stream",
     "text": [
      "[0 1 2 3 4 5 6 7 8 9]\n",
      "[2 3 4]\n",
      "[2 3 4 5 6 7 8 9]\n",
      "[0 1 2 3 4 5 6 7 8]\n",
      "[2 3 4 5 6 7 8 9]\n"
     ]
    }
   ],
   "source": [
    "a = np.arange(10)\n",
    "print(a)\n",
    "print(a[2:5])\n",
    "print(a[2:])\n",
    "print(a[:-1])\n",
    "print(a[2:20])"
   ]
  },
  {
   "cell_type": "code",
   "execution_count": 11,
   "metadata": {},
   "outputs": [
    {
     "name": "stdout",
     "output_type": "stream",
     "text": [
      "(5, 3, 2, 1)\n",
      "(5, 3, 1, 2)\n",
      "(5, 3, 2)\n"
     ]
    }
   ],
   "source": [
    "a = np.ones((5, 3, 2))\n",
    "b = a[:,:,:, np.newaxis]\n",
    "print(b.shape)\n",
    "c = a[:,:, None]\n",
    "print(c.shape)\n",
    "print(a.shape)"
   ]
  },
  {
   "cell_type": "markdown",
   "metadata": {},
   "source": [
    "### 1.3 - Masking and Clipping"
   ]
  },
  {
   "cell_type": "code",
   "execution_count": 18,
   "metadata": {},
   "outputs": [
    {
     "data": {
      "text/plain": [
       "array([[2, 3, 5, 1],\n",
       "       [7, 6, 6, 4],\n",
       "       [4, 7, 3, 9],\n",
       "       [6, 3, 4, 6]])"
      ]
     },
     "execution_count": 18,
     "metadata": {},
     "output_type": "execute_result"
    }
   ],
   "source": [
    "a = np.random.randint(0, 10, (4, 4))\n",
    "a"
   ]
  },
  {
   "cell_type": "code",
   "execution_count": 13,
   "metadata": {},
   "outputs": [
    {
     "name": "stdout",
     "output_type": "stream",
     "text": [
      "[[False False False False]\n",
      " [False False False False]\n",
      " [False False False False]\n",
      " [False False False False]]\n"
     ]
    }
   ],
   "source": [
    "print(a == 5)  # masking"
   ]
  },
  {
   "cell_type": "code",
   "execution_count": 15,
   "metadata": {},
   "outputs": [
    {
     "data": {
      "text/plain": [
       "array([[10,  9,  6,  8],\n",
       "       [ 6,  7,  8,  7],\n",
       "       [ 9,  6,  0,  8],\n",
       "       [ 0,  7,  8,  7]])"
      ]
     },
     "execution_count": 15,
     "metadata": {},
     "output_type": "execute_result"
    }
   ],
   "source": [
    "a[a==3] = 10\n",
    "a"
   ]
  },
  {
   "cell_type": "code",
   "execution_count": 19,
   "metadata": {},
   "outputs": [
    {
     "name": "stdout",
     "output_type": "stream",
     "text": [
      "c:\n",
      " [[2 3 5 1]\n",
      " [5 5 5 4]\n",
      " [4 5 3 5]\n",
      " [5 3 4 5]]\n",
      "d:\n",
      " [[8 8 8 8]\n",
      " [8 8 8 8]\n",
      " [8 8 8 9]\n",
      " [8 8 8 8]]\n",
      "e:\n",
      " [[2 3 5 2]\n",
      " [7 6 6 4]\n",
      " [4 7 3 7]\n",
      " [6 3 4 6]]\n"
     ]
    }
   ],
   "source": [
    "# clipping\n",
    "c = np.minimum(a, 5)\n",
    "print('c:\\n', c)\n",
    "d = np.maximum(a, 8)\n",
    "print('d:\\n', d)\n",
    "e = np.clip(a, 2, 7)\n",
    "print('e:\\n', e)"
   ]
  },
  {
   "cell_type": "markdown",
   "metadata": {},
   "source": [
    "#### 1.3.1 - Array masking based on a condition"
   ]
  },
  {
   "cell_type": "code",
   "execution_count": 20,
   "metadata": {},
   "outputs": [
    {
     "name": "stdout",
     "output_type": "stream",
     "text": [
      "[[1 0 0 2]\n",
      " [5 3 3 4]]\n",
      "[[11 10 10 12]\n",
      " [ 5 13 13  4]]\n"
     ]
    }
   ],
   "source": [
    "a = np.random.randint(0, 6, (2,4))\n",
    "print(a)\n",
    "\n",
    "b = np.where(a>3, a ,a+10)  # return elements chosen from a or a+10 depending on condition.\n",
    "print(b)"
   ]
  },
  {
   "cell_type": "markdown",
   "metadata": {},
   "source": [
    "### 1.4 - Array conversion"
   ]
  },
  {
   "cell_type": "code",
   "execution_count": 21,
   "metadata": {},
   "outputs": [
    {
     "name": "stdout",
     "output_type": "stream",
     "text": [
      "[0 1 2 3 4]\n",
      "<class 'numpy.ndarray'>\n",
      "[0, 1, 2, 3, 4]\n",
      "<class 'list'>\n"
     ]
    }
   ],
   "source": [
    "# Converting an ndarray to list\n",
    "a = np.arange(5)\n",
    "print(a)\n",
    "print(type(a))\n",
    "\n",
    "b = a.tolist()\n",
    "print(b)\n",
    "print(type(b))"
   ]
  },
  {
   "cell_type": "code",
   "execution_count": 22,
   "metadata": {},
   "outputs": [
    {
     "name": "stdout",
     "output_type": "stream",
     "text": [
      "float64\n",
      "[1 2 3 4]\n",
      "int32\n"
     ]
    }
   ],
   "source": [
    "# Casting\n",
    "a = np.array([1.5, 2.34, 3.755, 4.513])\n",
    "print(a.dtype)\n",
    "\n",
    "b = a.astype(np.int32)\n",
    "print(b)\n",
    "print(b.dtype)"
   ]
  },
  {
   "cell_type": "markdown",
   "metadata": {},
   "source": [
    "## 2. Array munipulation"
   ]
  },
  {
   "cell_type": "markdown",
   "metadata": {},
   "source": [
    "### 2.1 - Reshape"
   ]
  },
  {
   "cell_type": "code",
   "execution_count": 23,
   "metadata": {},
   "outputs": [
    {
     "name": "stdout",
     "output_type": "stream",
     "text": [
      "(3, 4)\n",
      "[[1 1 3 3]\n",
      " [2 3 2 2]\n",
      " [1 1 1 2]]\n",
      "(2, 6)\n",
      "[[1 1 3 3 2 3]\n",
      " [2 2 1 1 1 2]]\n"
     ]
    }
   ],
   "source": [
    "a = np.random.randint(0,4,(3,4))\n",
    "\n",
    "print(a.shape)     \n",
    "print(a)\n",
    "\n",
    "b = np.reshape(a,(2,6))\n",
    "print(b.shape)\n",
    "print(b)"
   ]
  },
  {
   "cell_type": "code",
   "execution_count": 35,
   "metadata": {},
   "outputs": [
    {
     "name": "stdout",
     "output_type": "stream",
     "text": [
      "(2, 3, 4)\n",
      "a:\n",
      " [[[5 0 9 5]\n",
      "  [8 9 8 7]\n",
      "  [3 0 6 6]]\n",
      "\n",
      " [[6 2 1 1]\n",
      "  [8 2 1 3]\n",
      "  [6 8 4 4]]]\n",
      "a_ravel.shape:  (24,)\n",
      "a_ravel:\n",
      " [5 0 9 5 8 9 8 7 3 0 6 6 6 2 1 1 8 2 1 3 6 8 4 4]\n",
      "b:\n",
      " [5 0 9 5 8 9 8 7 3 0 6 6 6 2 1 1 8 2 1 3 6 8 4 4]\n"
     ]
    }
   ],
   "source": [
    "a = np.random.randint(0,10,(2,3,4))\n",
    "\n",
    "print(a.shape)\n",
    "print('a:\\n', a)\n",
    "\n",
    "a_ravel = np.ravel(a)  # create a 1d-array\n",
    "print('a_ravel.shape: ', a_ravel.shape)\n",
    "print('a_ravel:\\n', a_ravel)\n",
    "\n",
    "b = np.reshape(a,(-1))  # b is equal to a_ravel\n",
    "print('b:\\n', b)"
   ]
  },
  {
   "cell_type": "markdown",
   "metadata": {},
   "source": [
    "### 2.2 - Transpose"
   ]
  },
  {
   "cell_type": "code",
   "execution_count": 36,
   "metadata": {
    "scrolled": true
   },
   "outputs": [
    {
     "name": "stdout",
     "output_type": "stream",
     "text": [
      "(5, 3)\n",
      "(5, 3, 2)\n"
     ]
    }
   ],
   "source": [
    "a = np.random.rand(3,5)\n",
    "\n",
    "a_t = a.T  # transposing\n",
    "print(a_t.shape)\n",
    "\n",
    "# reversing shape of multidimensional arrays \n",
    "b = np.random.rand(2,3,5)\n",
    "\n",
    "b_t = b.T\n",
    "print(b_t.shape)"
   ]
  },
  {
   "cell_type": "code",
   "execution_count": 39,
   "metadata": {},
   "outputs": [
    {
     "name": "stdout",
     "output_type": "stream",
     "text": [
      "(3, 7, 2, 5)\n"
     ]
    }
   ],
   "source": [
    "# using np.transpose\n",
    "a = np.random.rand(2,3,5,7)\n",
    "\n",
    "a_t = np.transpose(a,[1,3,0,2])\n",
    "\n",
    "print(a_t.shape)"
   ]
  },
  {
   "cell_type": "markdown",
   "metadata": {},
   "source": [
    "### 2.3 - Combining arrays: Stacking & concatenation"
   ]
  },
  {
   "cell_type": "code",
   "execution_count": 40,
   "metadata": {},
   "outputs": [
    {
     "name": "stdout",
     "output_type": "stream",
     "text": [
      "(3, 12, 5)\n"
     ]
    }
   ],
   "source": [
    "# concatenation\n",
    "a = np.random.randint(0, 5, (3,2,5))\n",
    "b = np.random.randint(0 ,5, (3,4,5))\n",
    "c = np.random.randint(0, 5, (3,6,5))\n",
    "\n",
    "concat = np.concatenate((a,b,c), axis=1)\n",
    "print(concat.shape)"
   ]
  },
  {
   "cell_type": "code",
   "execution_count": 55,
   "metadata": {},
   "outputs": [
    {
     "name": "stdout",
     "output_type": "stream",
     "text": [
      "(3, 3, 4, 5)\n",
      "(3, 3, 4, 5)\n",
      "(3, 4, 3, 5)\n",
      "(3, 4, 5, 3)\n"
     ]
    }
   ],
   "source": [
    "# stacking\n",
    "a = np.random.randint(0, 5, (3,4,5))\n",
    "b = np.random.randint(0, 5, (3,4,5))\n",
    "c = np.random.randint(0, 5, (3,4,5))\n",
    "\n",
    "stack0 = np.stack([a, b, c], axis=0)\n",
    "stack1 = np.stack([a, b, c], axis=1)\n",
    "stack2 = np.stack([a, b, c], axis=2)\n",
    "stack3 = np.stack((a, b, c), axis=3)\n",
    "\n",
    "print(stack0.shape)\n",
    "print(stack1.shape)\n",
    "print(stack2.shape)\n",
    "print(stack3.shape)"
   ]
  },
  {
   "cell_type": "markdown",
   "metadata": {},
   "source": [
    "## 3. Mathematical functions"
   ]
  },
  {
   "cell_type": "markdown",
   "metadata": {},
   "source": [
    "### 3.1 - Computation Along Axes"
   ]
  },
  {
   "cell_type": "markdown",
   "metadata": {},
   "source": [
    " - `np.sum()`\n",
    "   \n",
    " - `np.mean()`\n",
    " "
   ]
  },
  {
   "cell_type": "code",
   "execution_count": 74,
   "metadata": {},
   "outputs": [
    {
     "name": "stdout",
     "output_type": "stream",
     "text": [
      " x:\n",
      " [[2 0 1]\n",
      " [0 0 0]] (2, 3)\n",
      "\n",
      " x_sum:\n",
      " 3 ()\n",
      "\n",
      " x_sum0:\n",
      " [2 0 1] (3,)\n",
      "\n",
      " x_sum1:\n",
      " [3 0] (2,)\n",
      "\n",
      " x_sum_keepdim:\n",
      " [[3]\n",
      " [0]] (2, 1)\n"
     ]
    }
   ],
   "source": [
    "# np.sum\n",
    "x = np.random.randint(0,4,(2,3)) \n",
    "x_sum = np.sum(x)\n",
    "x_sum0 = np.sum(x, axis=0)\n",
    "x_sum1 = np.sum(x, axis=1)\n",
    "x_sum_keepdim = np.sum(x, axis=1, keepdims=True)\n",
    "\n",
    "print(' x:\\n', x, x.shape)\n",
    "print('\\n x_sum:\\n', x_sum, x_sum.shape)\n",
    "print('\\n x_sum0:\\n',x_sum0, x_sum0.shape)\n",
    "print('\\n x_sum1:\\n', x_sum1, x_sum1.shape)\n",
    "print('\\n x_sum_keepdim:\\n', x_sum_keepdim, x_sum_keepdim.shape)"
   ]
  },
  {
   "cell_type": "code",
   "execution_count": 61,
   "metadata": {},
   "outputs": [
    {
     "name": "stdout",
     "output_type": "stream",
     "text": [
      "y:\n",
      " [[3 1 4]\n",
      " [4 1 3]\n",
      " [2 4 3]] (3, 3)\n",
      "\n",
      "y_mean:\n",
      " 2.7777777777777777 , shape: ()\n",
      "\n",
      "y_mean0:\n",
      " [3.         2.         3.33333333] , shape: (3,)\n",
      "\n",
      "y_mean1:\n",
      " [2.66666667 2.66666667 3.        ] , shape: (3,)\n",
      "\n",
      "y_mean_keepdims:\n",
      " [[2.66666667]\n",
      " [2.66666667]\n",
      " [3.        ]] , shape:  (3, 1)\n"
     ]
    }
   ],
   "source": [
    "# np.mean\n",
    "y = np.random.randint(1, 5, (3, 3))\n",
    "y_mean = np.mean(y)\n",
    "y_mean0 = np.mean(y, axis=0)\n",
    "y_mean1 = np.mean(y, axis=1)\n",
    "y_mean_keepdim = np.mean(y, axis=1, keepdims=True)\n",
    "\n",
    "print('y:\\n', y, y.shape)\n",
    "print('\\ny_mean:\\n', y_mean, ', shape:', y_mean.shape)\n",
    "print('\\ny_mean0:\\n', y_mean0, ', shape:', y_mean0.shape)\n",
    "print('\\ny_mean1:\\n', y_mean1, ', shape:', y_mean1.shape)\n",
    "print('\\ny_mean_keepdims:\\n', y_mean_keepdim, ', shape: ', y_mean_keepdim.shape)"
   ]
  },
  {
   "cell_type": "markdown",
   "metadata": {},
   "source": [
    "### 3.2 - Arithmatic operations"
   ]
  },
  {
   "cell_type": "code",
   "execution_count": 64,
   "metadata": {},
   "outputs": [
    {
     "name": "stdout",
     "output_type": "stream",
     "text": [
      "x:\n",
      " [[0 1 2]\n",
      " [3 4 5]]\n",
      "y:\n",
      " [0 1 2]\n",
      "m:\n",
      " [[ 0  1  4]\n",
      " [ 0  4 10]]\n",
      "m1:\n",
      " [[ 0  1  4]\n",
      " [ 0  4 10]]\n",
      "x_squared:\n",
      " [[ 0  1  4]\n",
      " [ 9 16 25]]\n"
     ]
    }
   ],
   "source": [
    "x = np.arange(6).reshape(2,3) \n",
    "y = np.arange(3).reshape(3) \n",
    "m = np.multiply(x,y)\n",
    "print('x:\\n', x)\n",
    "print('y:\\n', y)\n",
    "print('m:\\n', m)\n",
    "\n",
    "m1 = x * y  # overloaded operators\n",
    "print('m1:\\n', m1)\n",
    "\n",
    "x_squared = x ** 2  # overloaded operators\n",
    "print('x_squared:\\n', x_squared)"
   ]
  },
  {
   "cell_type": "code",
   "execution_count": 75,
   "metadata": {},
   "outputs": [
    {
     "name": "stdout",
     "output_type": "stream",
     "text": [
      "[[0 1 2]\n",
      " [3 4 5]]\n",
      "\n",
      " [0 1 2]\n",
      "(2, 3) (3,)\n",
      "\n",
      " [[0 2 4]\n",
      " [3 5 7]]\n",
      "\n",
      " [[0 2 4]\n",
      " [3 5 7]]\n"
     ]
    }
   ],
   "source": [
    "x = np.arange(6).reshape(2,3) \n",
    "print(x)\n",
    "y = np.arange(3)\n",
    "print('\\n', y)\n",
    "print(x.shape, y.shape)\n",
    "c = np.add(x,y)\n",
    "print('\\n', c)\n",
    "c_1 = x + y  # overloaded operators\n",
    "print('\\n', c_1)"
   ]
  },
  {
   "cell_type": "markdown",
   "metadata": {},
   "source": [
    "## 4. Matrix multiplication"
   ]
  },
  {
   "cell_type": "markdown",
   "metadata": {},
   "source": [
    " - `np.dot(a, b)`\n",
    "   \n",
    " - `np.matmul(a, b)`\n",
    "   \n",
    " - `a.dot(b)`"
   ]
  },
  {
   "cell_type": "code",
   "execution_count": 66,
   "metadata": {},
   "outputs": [
    {
     "data": {
      "text/plain": [
       "(dtype('int64'), dtype('int64'))"
      ]
     },
     "execution_count": 66,
     "metadata": {},
     "output_type": "execute_result"
    }
   ],
   "source": [
    "a = np.arange(12).reshape(3,4)\n",
    "b = np.arange(24).reshape(4,6)\n",
    "a.dtype, b.dtype"
   ]
  },
  {
   "cell_type": "code",
   "execution_count": 67,
   "metadata": {},
   "outputs": [
    {
     "name": "stdout",
     "output_type": "stream",
     "text": [
      "[[ True  True  True  True  True  True]\n",
      " [ True  True  True  True  True  True]\n",
      " [ True  True  True  True  True  True]]\n"
     ]
    }
   ],
   "source": [
    "c1 = np.dot(a,b)\n",
    "c2 = a.dot(b)\n",
    "print(c1 == c2)"
   ]
  },
  {
   "cell_type": "code",
   "execution_count": 68,
   "metadata": {},
   "outputs": [
    {
     "data": {
      "text/plain": [
       "(3, 6)"
      ]
     },
     "execution_count": 68,
     "metadata": {},
     "output_type": "execute_result"
    }
   ],
   "source": [
    "mat = np.matmul(a,b)  # if both a and b are 2-D arrays, this is preferred.\n",
    "mat.shape"
   ]
  },
  {
   "cell_type": "markdown",
   "metadata": {},
   "source": [
    "##  5. Saving and loading Numpy array"
   ]
  },
  {
   "cell_type": "markdown",
   "metadata": {},
   "source": [
    "### 5.1 - Saving and loading a single Numpy array"
   ]
  },
  {
   "cell_type": "code",
   "execution_count": 69,
   "metadata": {},
   "outputs": [
    {
     "name": "stdout",
     "output_type": "stream",
     "text": [
      "[0.33029761 0.50138092 0.62367404 0.27681149 0.16207629]\n"
     ]
    }
   ],
   "source": [
    "# Save single array\n",
    "x = np.random.random((5,))\n",
    "print(x)\n",
    "\n",
    "np.save('tmp.npy', x)"
   ]
  },
  {
   "cell_type": "code",
   "execution_count": 71,
   "metadata": {},
   "outputs": [
    {
     "name": "stdout",
     "output_type": "stream",
     "text": [
      "['.ipynb_checkpoints', 'image', 'tmp.npy', 'data', 'HW1.ipynb', '.DS_Store', 'perceptron.py', 'Numpy Tutorial.ipynb', 'TensorFlow Tutorial.ipynb']\n"
     ]
    }
   ],
   "source": [
    "import os\n",
    "print(os.listdir() )  "
   ]
  },
  {
   "cell_type": "code",
   "execution_count": 70,
   "metadata": {},
   "outputs": [
    {
     "name": "stdout",
     "output_type": "stream",
     "text": [
      "[0.33029761 0.50138092 0.62367404 0.27681149 0.16207629]\n"
     ]
    }
   ],
   "source": [
    "# Load the array\n",
    "a = np.array\n",
    "y = np.load('tmp.npy')\n",
    "\n",
    "print(y)"
   ]
  },
  {
   "cell_type": "markdown",
   "metadata": {},
   "source": [
    "### 5.2 - Saving and loading a dictionary of Numpy arrays"
   ]
  },
  {
   "cell_type": "code",
   "execution_count": 72,
   "metadata": {},
   "outputs": [
    {
     "name": "stdout",
     "output_type": "stream",
     "text": [
      "[0.57105561 0.78724259] [0.82399715 0.62856396 0.32186607]\n"
     ]
    }
   ],
   "source": [
    "# Save dictionary of arrays\n",
    "x1 = np.random.random((2,))\n",
    "y1 = np.random.random((3,))\n",
    "print(x1, y1)\n",
    "\n",
    "np.savez('tmp.npz', x=x1, y=y1)\n",
    "\n"
   ]
  },
  {
   "cell_type": "code",
   "execution_count": 73,
   "metadata": {},
   "outputs": [
    {
     "name": "stdout",
     "output_type": "stream",
     "text": [
      "[0.57105561 0.78724259]\n",
      "[0.82399715 0.62856396 0.32186607]\n"
     ]
    }
   ],
   "source": [
    "# Load the dictionary of arrays\n",
    "data = np.load('tmp.npz')\n",
    "\n",
    "print(data['x'])\n",
    "print(data['y'])"
   ]
  },
  {
   "cell_type": "markdown",
   "metadata": {},
   "source": [
    "## References"
   ]
  },
  {
   "cell_type": "markdown",
   "metadata": {},
   "source": [
    " - https://docs.scipy.org/doc/numpy/reference/\n",
    " - http://deeplearning.cs.cmu.edu/"
   ]
  }
 ],
 "metadata": {
  "kernelspec": {
   "display_name": "Python 3",
   "language": "python",
   "name": "python3"
  },
  "language_info": {
   "codemirror_mode": {
    "name": "ipython",
    "version": 3
   },
   "file_extension": ".py",
   "mimetype": "text/x-python",
   "name": "python",
   "nbconvert_exporter": "python",
   "pygments_lexer": "ipython3",
   "version": "3.6.9"
  }
 },
 "nbformat": 4,
 "nbformat_minor": 2
}
