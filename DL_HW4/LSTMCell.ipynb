{
 "cells": [
  {
   "cell_type": "code",
   "execution_count": 1,
   "metadata": {},
   "outputs": [],
   "source": [
    "import numpy as np\n",
    "import tensorflow.compat.v1 as tf\n",
    "\n",
    "import matplotlib.pyplot as plt\n",
    "\n",
    "%matplotlib inline\n",
    "plt.rcParams['figure.figsize'] = (15.0, 15.0)\n",
    "plt.rcParams['image.interpolation'] = 'nearest'\n",
    "plt.rcParams['image.cmap'] = 'gray'\n",
    "\n",
    "%load_ext autoreload\n",
    "%autoreload 2"
   ]
  },
  {
   "cell_type": "code",
   "execution_count": 8,
   "metadata": {},
   "outputs": [],
   "source": [
    "f = open('Ferdosi/ferdosi.txt', 'r')\n",
    "ferdosi = f.read().split('\\n')\n",
    "ferdosi = [beyt.split(' , ') for beyt in ferdosi]\n",
    "ferdosi = ferdosi[:-1]\n",
    "data = [[[ord(c) for c in b[0]], [ord(c) for c in b[1]]] for b in ferdosi]\n",
    "max_len = 0\n",
    "for mesra in data:\n",
    "    max_len = max(max(len(mesra[0]), len(mesra[1])), max_len)\n",
    "\n",
    "for i in range(len(data)):\n",
    "    data[i][0] = [0]*(max_len-len(data[i][0])) + data[i][0] + [-1]\n",
    "    data[i][1] += [-1] + [0]*(max_len-len(data[i][1]))"
   ]
  },
  {
   "cell_type": "code",
   "execution_count": 9,
   "metadata": {},
   "outputs": [],
   "source": [
    "unique = np.unique(data)\n",
    "dic = dict((unique[i], i) for i in range(2, len(unique)))\n",
    "dic[0] = 0\n",
    "dic[-1] = 1\n",
    "data = [[[dic[c] for c in b[0]],[dic[c] for c in b[1]]] for b in data]\n",
    "data = np.array(data)"
   ]
  },
  {
   "cell_type": "code",
   "execution_count": 14,
   "metadata": {},
   "outputs": [],
   "source": [
    "def all_idx(idx, axis):\n",
    "    grid = np.ogrid[tuple(map(slice, idx.shape))]\n",
    "    grid.insert(axis, idx)\n",
    "    return tuple(grid)\n",
    "\n",
    "def onehot_initialization(a):\n",
    "    ncols = a.max()+1\n",
    "    out = np.zeros(a.shape + (ncols,), dtype=int)\n",
    "    out[all_idx(a, axis=3)] = 1\n",
    "    return out\n",
    "onehot_data = onehot_initialization(data)"
   ]
  },
  {
   "cell_type": "code",
   "execution_count": 20,
   "metadata": {},
   "outputs": [
    {
     "data": {
      "text/plain": [
       "array([0, 1, 0, 0, 0, 0, 0, 0, 0, 0, 0, 0, 0, 0, 0, 0, 0, 0, 0, 0, 0, 0,\n",
       "       0, 0, 0, 0, 0, 0, 0, 0, 0, 0, 0, 0, 0, 0, 0, 0, 0])"
      ]
     },
     "execution_count": 20,
     "metadata": {},
     "output_type": "execute_result"
    }
   ],
   "source": [
    "flags = tf.app.flags\n",
    "FLAGS = flags.FLAGS\n",
    "flags.DEFINE_float('learning_rate', 0.0005, 'Initial learning rate')\n",
    "flags.DEFINE_integer('len_mesra', data.shape[2], 'Length of every mesra')\n",
    "flags.DEFINE_integer('len_dic', data.shape[3], 'Length of dictionary')\n",
    "flags.DEFINE_integer('batch_size', 128, 'Width of images')\n",
    "flags.DEFINE_integer('num_epochs', 100, 'Number of epochs of training')"
   ]
  },
  {
   "cell_type": "code",
   "execution_count": null,
   "metadata": {},
   "outputs": [],
   "source": [
    "a = np.ones([100,10,5])\n",
    "np.un"
   ]
  }
 ],
 "metadata": {
  "kernelspec": {
   "display_name": "Python 3",
   "language": "python",
   "name": "python3"
  },
  "language_info": {
   "codemirror_mode": {
    "name": "ipython",
    "version": 3
   },
   "file_extension": ".py",
   "mimetype": "text/x-python",
   "name": "python",
   "nbconvert_exporter": "python",
   "pygments_lexer": "ipython3",
   "version": "3.8.2"
  }
 },
 "nbformat": 4,
 "nbformat_minor": 4
}
